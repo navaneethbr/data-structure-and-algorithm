{
 "cells": [
  {
   "cell_type": "code",
   "execution_count": 1,
   "id": "f9942927-7baa-4eb5-8a62-bd40b08aa2ad",
   "metadata": {
    "tags": []
   },
   "outputs": [],
   "source": [
    "from collections import deque\n",
    "d = deque()"
   ]
  },
  {
   "cell_type": "code",
   "execution_count": 2,
   "id": "e55c850d-cb06-4d18-b48a-0241b4a5318c",
   "metadata": {
    "tags": []
   },
   "outputs": [],
   "source": [
    "d.append(1)"
   ]
  },
  {
   "cell_type": "code",
   "execution_count": 3,
   "id": "07186cb0-d445-4aec-8fba-dc34e709c28e",
   "metadata": {
    "tags": []
   },
   "outputs": [],
   "source": [
    "d.extend([23,23,41])"
   ]
  },
  {
   "cell_type": "code",
   "execution_count": 4,
   "id": "090fa812-5e16-4cb6-90f7-5e7b90f3f99c",
   "metadata": {
    "tags": []
   },
   "outputs": [
    {
     "data": {
      "text/plain": [
       "deque([1, 23, 23, 41])"
      ]
     },
     "execution_count": 4,
     "metadata": {},
     "output_type": "execute_result"
    }
   ],
   "source": [
    "d"
   ]
  },
  {
   "cell_type": "code",
   "execution_count": 5,
   "id": "3f0ce5db-4412-4a6e-8192-65c8d3c89052",
   "metadata": {
    "tags": []
   },
   "outputs": [],
   "source": [
    "d.appendleft(1)"
   ]
  },
  {
   "cell_type": "code",
   "execution_count": 7,
   "id": "b6b8d46c-d320-476e-b5cb-460c6a5b4b05",
   "metadata": {
    "tags": []
   },
   "outputs": [
    {
     "data": {
      "text/plain": [
       "1"
      ]
     },
     "execution_count": 7,
     "metadata": {},
     "output_type": "execute_result"
    }
   ],
   "source": [
    "d.popleft()"
   ]
  },
  {
   "cell_type": "code",
   "execution_count": 8,
   "id": "c8df69db-79a5-478a-93ab-1208d9a95eed",
   "metadata": {
    "tags": []
   },
   "outputs": [
    {
     "data": {
      "text/plain": [
       "deque([1, 23, 23, 41])"
      ]
     },
     "execution_count": 8,
     "metadata": {},
     "output_type": "execute_result"
    }
   ],
   "source": [
    "d"
   ]
  },
  {
   "cell_type": "code",
   "execution_count": null,
   "id": "e0697b3e-3855-487f-92fb-eeedca6b6cd5",
   "metadata": {},
   "outputs": [],
   "source": []
  }
 ],
 "metadata": {
  "kernelspec": {
   "display_name": "Python 3 (ipykernel)",
   "language": "python",
   "name": "python3"
  },
  "language_info": {
   "codemirror_mode": {
    "name": "ipython",
    "version": 3
   },
   "file_extension": ".py",
   "mimetype": "text/x-python",
   "name": "python",
   "nbconvert_exporter": "python",
   "pygments_lexer": "ipython3",
   "version": "3.11.5"
  }
 },
 "nbformat": 4,
 "nbformat_minor": 5
}
