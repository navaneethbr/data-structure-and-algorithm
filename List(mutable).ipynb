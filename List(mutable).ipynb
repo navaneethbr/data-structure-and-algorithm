{
 "cells": [
  {
   "cell_type": "markdown",
   "id": "0ec75de9-60ef-4ee2-bbd8-dc2af9f2ac7c",
   "metadata": {},
   "source": [
    "## Important LIST function and methods\n",
    "1. <b>len(list)</b>: Gives the lenght of the list<br>\n",
    "2. <b>list.count(x)</b>: Gives how many time a element is present in List<br>\n",
    "3. <b>list.index(x)</b>: Gives the first occurances of a element<br>\n",
    "\n",
    "## Manipulating elements in LIST\n",
    "1. <b>list.append(x)</b>: Adds the elements to end of list<br>\n",
    "2. <b>list.insert(index, x)</b>: Adds element at specified position<br>\n",
    "3. <b>list.extend(list)</b>: Extends list with another list<br> \n",
    "4. <b>list.sort()</b>: Sorts the list in ascending order, for string ascii valur order<br>\n",
    "5. <b>list.remove(element)</b>: removes using element as argument<br>\n",
    "6. <b>list.pop(index)</b>: removes using index<br>\n",
    "7. <b>list.clear()</b>: removes all elements from string<br>"
   ]
  },
  {
   "cell_type": "markdown",
   "id": "0d4d890b-f0fc-4171-8bfa-1091dd8c12a0",
   "metadata": {},
   "source": [
    "## TUPEL is same as LIST but its immutable"
   ]
  },
  {
   "cell_type": "code",
   "execution_count": 64,
   "id": "036c437b-e6a8-49b5-9c1a-2b08f01f7e29",
   "metadata": {},
   "outputs": [
    {
     "name": "stdout",
     "output_type": "stream",
     "text": [
      "[1, 4, 9, 16, 36, 49, 64, 81]\n"
     ]
    }
   ],
   "source": [
    "l1=[x*x for x in range(1,11) if (x*x)%5!=0]\n",
    "print(l1)"
   ]
  },
  {
   "cell_type": "code",
   "execution_count": 15,
   "id": "6bbfbf10-1b44-46a3-b841-b44aa4e2ee08",
   "metadata": {},
   "outputs": [],
   "source": [
    "s=\"the quick brown fox jumps over the lazy dog\"\n",
    "l2=[[x.lower(),len(x)] for x in s.split()]"
   ]
  },
  {
   "cell_type": "code",
   "execution_count": 68,
   "id": "354b7dbf-88f5-4efe-be2b-a2c7390c3330",
   "metadata": {},
   "outputs": [
    {
     "ename": "SyntaxError",
     "evalue": "invalid syntax (<ipython-input-68-b4ae06f7b12a>, line 1)",
     "output_type": "error",
     "traceback": [
      "\u001b[1;36m  File \u001b[1;32m\"<ipython-input-68-b4ae06f7b12a>\"\u001b[1;36m, line \u001b[1;32m1\u001b[0m\n\u001b[1;33m    l1.sort(*,key=2)\u001b[0m\n\u001b[1;37m             ^\u001b[0m\n\u001b[1;31mSyntaxError\u001b[0m\u001b[1;31m:\u001b[0m invalid syntax\n"
     ]
    }
   ],
   "source": [
    "l1.sort(key=2)"
   ]
  },
  {
   "cell_type": "code",
   "execution_count": 4,
   "id": "0fa0fa9e-d042-408a-aafa-5c64e9f82a58",
   "metadata": {},
   "outputs": [],
   "source": [
    "for i in range(0):\n",
    "    print(i)"
   ]
  },
  {
   "cell_type": "code",
   "execution_count": 8,
   "id": "0898bdf8-c865-4e21-a722-2344b3633273",
   "metadata": {},
   "outputs": [
    {
     "name": "stdout",
     "output_type": "stream",
     "text": [
      "2368803761088 2368803757824\n"
     ]
    }
   ],
   "source": [
    "jsvbs = [1,2,3,2,2]\n",
    "ininon = jsvbs.copy()\n",
    "print(id(ininon), id(jsvbs))"
   ]
  },
  {
   "cell_type": "code",
   "execution_count": 17,
   "id": "32920215-dd53-4319-aa5b-bd1174030ede",
   "metadata": {},
   "outputs": [],
   "source": [
    "l=[]\n",
    "l.insert(10,1)\n",
    "l.insert(0,2)"
   ]
  },
  {
   "cell_type": "code",
   "execution_count": 18,
   "id": "3e48fc32-c34b-46b5-9372-7ff3ebe609a4",
   "metadata": {},
   "outputs": [
    {
     "data": {
      "text/plain": [
       "[2, 1]"
      ]
     },
     "execution_count": 18,
     "metadata": {},
     "output_type": "execute_result"
    }
   ],
   "source": [
    "len(l)\n",
    "l"
   ]
  },
  {
   "cell_type": "code",
   "execution_count": null,
   "id": "b121008f-490c-4951-94cd-fdc66cd5f696",
   "metadata": {},
   "outputs": [],
   "source": []
  }
 ],
 "metadata": {
  "kernelspec": {
   "display_name": "Python 3",
   "language": "python",
   "name": "python3"
  },
  "language_info": {
   "codemirror_mode": {
    "name": "ipython",
    "version": 3
   },
   "file_extension": ".py",
   "mimetype": "text/x-python",
   "name": "python",
   "nbconvert_exporter": "python",
   "pygments_lexer": "ipython3",
   "version": "3.8.8"
  }
 },
 "nbformat": 4,
 "nbformat_minor": 5
}
