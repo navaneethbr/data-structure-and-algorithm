{
 "cells": [
  {
   "cell_type": "markdown",
   "id": "9d715cf5-be72-4cb2-b6f5-f808891e32d4",
   "metadata": {},
   "source": [
    "# Data Type \n",
    "1. <b>LIST->[ ] (mutable)</b><br>\n",
    "Properties:\n",
    "    1. Insertion order is preserved\n",
    "    2. Duplicates are allowed\n",
    "    3. Heterogeneous(different data type) objects are allowed\n",
    "    4. Indexing and Slicing operator are allowed\n",
    "2. <b>TUPLE->() (immutable)</b><br>\n",
    "Properties:\n",
    "    1. same property as tuple but its immutable\n",
    "3. <b>SET->{} (mutable)</b><br>\n",
    "Properties:\n",
    "    1. Insertion oreder is <b>NOT</b> preserved\n",
    "    2. Duplicates is <b>NOT</b> allowed\n",
    "    3. Heterogeneous(different data type) objects are allowed\n",
    "    4. Indexing and Slicing operator <b>NOT</b> are allowed\n",
    "2. <b>DICTIONARY->{key : value} (mutable)</b><br>\n",
    "properties:\n",
    "    1. Keys and values can be heterogeneous\n",
    "    2. Keys can not have duplicates\n",
    "    3. values can have duplicate"
   ]
  },
  {
   "cell_type": "code",
   "execution_count": null,
   "id": "8a6c7260-80a7-4218-863d-8cab00bf6b2a",
   "metadata": {},
   "outputs": [],
   "source": []
  }
 ],
 "metadata": {
  "kernelspec": {
   "display_name": "Python 3",
   "language": "python",
   "name": "python3"
  },
  "language_info": {
   "codemirror_mode": {
    "name": "ipython",
    "version": 3
   },
   "file_extension": ".py",
   "mimetype": "text/x-python",
   "name": "python",
   "nbconvert_exporter": "python",
   "pygments_lexer": "ipython3",
   "version": "3.8.8"
  }
 },
 "nbformat": 4,
 "nbformat_minor": 5
}
