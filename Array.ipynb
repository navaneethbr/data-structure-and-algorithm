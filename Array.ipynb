{
 "cells": [
  {
   "cell_type": "code",
   "execution_count": 14,
   "id": "37a5ec06-cbb1-48d6-8080-057dd1831bfa",
   "metadata": {},
   "outputs": [
    {
     "data": {
      "text/plain": [
       "[2, 3, 2, 7, 1]"
      ]
     },
     "execution_count": 14,
     "metadata": {},
     "output_type": "execute_result"
    }
   ],
   "source": [
    "array = [2,3,2,7,1]\n",
    "array"
   ]
  },
  {
   "cell_type": "markdown",
   "id": "aa57e9d1-925f-43e8-9dc6-d47387904ecc",
   "metadata": {},
   "source": [
    "## Insert Element Into Array"
   ]
  },
  {
   "cell_type": "code",
   "execution_count": 26,
   "id": "0ae293f8-8bb8-42e1-a363-7ce39c758342",
   "metadata": {},
   "outputs": [],
   "source": [
    "class ArrayOps:\n",
    "    def insertion(self , array, e, p):\n",
    "        for i in range(len(array)-1, -1, -1):\n",
    "            if i<p-1:\n",
    "                array[i+1] = e\n",
    "                break\n",
    "            else:\n",
    "                array[i+1] = array[i]\n",
    "        return array"
   ]
  },
  {
   "cell_type": "code",
   "execution_count": 27,
   "id": "1cc59f74-9d82-4ffc-8010-cfdfd590594b",
   "metadata": {},
   "outputs": [
    {
     "name": "stdin",
     "output_type": "stream",
     "text": [
      "Enter the element to be inserted 23\n",
      "Enter the element to be deleted 3\n",
      "Enter the position where it should be inserted 2\n"
     ]
    },
    {
     "ename": "IndexError",
     "evalue": "list assignment index out of range",
     "output_type": "error",
     "traceback": [
      "\u001b[1;31m---------------------------------------------------------------------------\u001b[0m",
      "\u001b[1;31mIndexError\u001b[0m                                Traceback (most recent call last)",
      "\u001b[1;32m<ipython-input-27-137227c7a01a>\u001b[0m in \u001b[0;36m<module>\u001b[1;34m\u001b[0m\n\u001b[0;32m      4\u001b[0m \u001b[1;33m\u001b[0m\u001b[0m\n\u001b[0;32m      5\u001b[0m \u001b[0mo\u001b[0m \u001b[1;33m=\u001b[0m \u001b[0mArrayOps\u001b[0m\u001b[1;33m(\u001b[0m\u001b[1;33m)\u001b[0m\u001b[1;33m\u001b[0m\u001b[1;33m\u001b[0m\u001b[0m\n\u001b[1;32m----> 6\u001b[1;33m \u001b[0mo\u001b[0m\u001b[1;33m.\u001b[0m\u001b[0minsertion\u001b[0m\u001b[1;33m(\u001b[0m\u001b[0marray\u001b[0m\u001b[1;33m,\u001b[0m \u001b[0me\u001b[0m\u001b[1;33m,\u001b[0m \u001b[0mp\u001b[0m\u001b[1;33m)\u001b[0m\u001b[1;33m\u001b[0m\u001b[1;33m\u001b[0m\u001b[0m\n\u001b[0m",
      "\u001b[1;32m<ipython-input-26-4cff53c5af2a>\u001b[0m in \u001b[0;36minsertion\u001b[1;34m(self, array, e, p)\u001b[0m\n\u001b[0;32m      6\u001b[0m                 \u001b[1;32mbreak\u001b[0m\u001b[1;33m\u001b[0m\u001b[1;33m\u001b[0m\u001b[0m\n\u001b[0;32m      7\u001b[0m             \u001b[1;32melse\u001b[0m\u001b[1;33m:\u001b[0m\u001b[1;33m\u001b[0m\u001b[1;33m\u001b[0m\u001b[0m\n\u001b[1;32m----> 8\u001b[1;33m                 \u001b[0marray\u001b[0m\u001b[1;33m[\u001b[0m\u001b[0mi\u001b[0m\u001b[1;33m+\u001b[0m\u001b[1;36m1\u001b[0m\u001b[1;33m]\u001b[0m \u001b[1;33m=\u001b[0m \u001b[0marray\u001b[0m\u001b[1;33m[\u001b[0m\u001b[0mi\u001b[0m\u001b[1;33m]\u001b[0m\u001b[1;33m\u001b[0m\u001b[1;33m\u001b[0m\u001b[0m\n\u001b[0m\u001b[0;32m      9\u001b[0m         \u001b[1;32mreturn\u001b[0m \u001b[0marray\u001b[0m\u001b[1;33m\u001b[0m\u001b[1;33m\u001b[0m\u001b[0m\n",
      "\u001b[1;31mIndexError\u001b[0m: list assignment index out of range"
     ]
    }
   ],
   "source": [
    "e = int(input(\"Enter the element to be inserted\"))\n",
    "d = int(input(\"Enter the element to be deleted\"))\n",
    "p = int(input(\"Enter the position where it should be inserted\"))\n",
    "\n",
    "o = ArrayOps()\n",
    "o.insertion(array, e, p)"
   ]
  },
  {
   "cell_type": "code",
   "execution_count": null,
   "id": "724902a5-20b9-47d8-b079-4101848a5509",
   "metadata": {},
   "outputs": [],
   "source": []
  }
 ],
 "metadata": {
  "kernelspec": {
   "display_name": "Python 3",
   "language": "python",
   "name": "python3"
  },
  "language_info": {
   "codemirror_mode": {
    "name": "ipython",
    "version": 3
   },
   "file_extension": ".py",
   "mimetype": "text/x-python",
   "name": "python",
   "nbconvert_exporter": "python",
   "pygments_lexer": "ipython3",
   "version": "3.8.8"
  }
 },
 "nbformat": 4,
 "nbformat_minor": 5
}
