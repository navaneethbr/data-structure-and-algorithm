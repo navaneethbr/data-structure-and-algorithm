{
 "cells": [
  {
   "cell_type": "markdown",
   "id": "dfbc3d22-bcef-4ad4-ac95-b2e7deb33409",
   "metadata": {},
   "source": [
    "## Important DICT function and methods\n",
    "1. <b>d.clear()</b>: clears the whole dictionary\n",
    "2. <b>d.copy()</b>: creats a copy of dictionary \n",
    "3. <b>d.fromkeys(key, default value)</b>: creats dictionary with keys and default values\n",
    "4. <b>d.get(key) or d.get(key, default value)</b>: return the values for the given key, if not present then prints default value\n",
    "5. <b>d.keys()</b>: returns the keys present in dictionary\n",
    "6. <b>d.pop(key)</b>: removes element with specified key\n",
    "7. <b>d.popitem()</b>: removes the last inserted key-value pair \n",
    "8. <b>d.update(key, value)</b>: updates the dictionary with specified key-value pair\n",
    "9. <b>d.values()</b>: returns the all values present in dictionary   "
   ]
  },
  {
   "cell_type": "code",
   "execution_count": 31,
   "id": "65727197-e011-4417-a912-d5acba9099d8",
   "metadata": {},
   "outputs": [],
   "source": [
    "from collections import defaultdict\n",
    "d = defaultdict(list)\n",
    "d[100]=[\"nava\"]\n",
    "d[200]='heat'"
   ]
  },
  {
   "cell_type": "code",
   "execution_count": 32,
   "id": "81f95657-cc75-4da0-b9c7-8c1130b45194",
   "metadata": {},
   "outputs": [
    {
     "data": {
      "text/plain": [
       "defaultdict(list, {100: ['nava', 'hello'], 200: 'heat'})"
      ]
     },
     "execution_count": 32,
     "metadata": {},
     "output_type": "execute_result"
    }
   ],
   "source": [
    "d[100].append(\"hello\")\n",
    "d"
   ]
  },
  {
   "cell_type": "code",
   "execution_count": 10,
   "id": "cbf9ce38-7cf4-4795-a718-dce4a3a75d1a",
   "metadata": {},
   "outputs": [
    {
     "name": "stdout",
     "output_type": "stream",
     "text": [
      "100 nava\n",
      "200 heat\n"
     ]
    }
   ],
   "source": [
    "for i, m in d.items():\n",
    "    print(i,m)"
   ]
  },
  {
   "cell_type": "code",
   "execution_count": 4,
   "id": "cf58ac36-db91-449e-8839-8490805aeb1c",
   "metadata": {},
   "outputs": [
    {
     "data": {
      "text/plain": [
       "'ht'"
      ]
     },
     "execution_count": 4,
     "metadata": {},
     "output_type": "execute_result"
    }
   ],
   "source": [
    "d.get(300,'ht')"
   ]
  },
  {
   "cell_type": "code",
   "execution_count": 5,
   "id": "a808324b-f157-4127-8ca1-f4941f61852d",
   "metadata": {},
   "outputs": [
    {
     "data": {
      "text/plain": [
       "{100: 'nava', 200: 'heat'}"
      ]
     },
     "execution_count": 5,
     "metadata": {},
     "output_type": "execute_result"
    }
   ],
   "source": [
    "d"
   ]
  },
  {
   "cell_type": "code",
   "execution_count": 7,
   "id": "909640e5-05a2-4170-9783-f45451695728",
   "metadata": {},
   "outputs": [
    {
     "name": "stdout",
     "output_type": "stream",
     "text": [
      "hello\n"
     ]
    }
   ],
   "source": [
    "x = ('key1', 'key2', 'key3')\n",
    "y = 0\n",
    "\n",
    "thisdict = dict.fromkeys(x, y)\n",
    "\n",
    "\n",
    "print(thisdict.get('ke1','hello'))\n"
   ]
  },
  {
   "cell_type": "code",
   "execution_count": 9,
   "id": "5fecfb91-8bf0-4d16-86bd-3850fb31e5f5",
   "metadata": {},
   "outputs": [
    {
     "name": "stdin",
     "output_type": "stream",
     "text": [
      "enter the word mississipi\n"
     ]
    },
    {
     "name": "stdout",
     "output_type": "stream",
     "text": [
      "{'m': 1, 'i': 4, 's': 4, 'p': 1}\n"
     ]
    }
   ],
   "source": [
    "word = input(\"enter the word\")\n",
    "d={}\n",
    "for n in word:\n",
    "    d[n] = d.get(n,0)+1\n",
    "print(d)"
   ]
  },
  {
   "cell_type": "code",
   "execution_count": null,
   "id": "1ee7d980-2f60-443d-b4c1-7552872db5d1",
   "metadata": {},
   "outputs": [],
   "source": []
  }
 ],
 "metadata": {
  "kernelspec": {
   "display_name": "Python 3",
   "language": "python",
   "name": "python3"
  },
  "language_info": {
   "codemirror_mode": {
    "name": "ipython",
    "version": 3
   },
   "file_extension": ".py",
   "mimetype": "text/x-python",
   "name": "python",
   "nbconvert_exporter": "python",
   "pygments_lexer": "ipython3",
   "version": "3.8.8"
  }
 },
 "nbformat": 4,
 "nbformat_minor": 5
}
