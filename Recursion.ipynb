{
 "cells": [
  {
   "cell_type": "markdown",
   "id": "ec5228b4-7840-49c3-a1c4-1696aa47a15b",
   "metadata": {},
   "source": [
    "# Recursion"
   ]
  },
  {
   "cell_type": "markdown",
   "id": "5234a32e-2681-4980-808e-155a65d7dcab",
   "metadata": {},
   "source": [
    "## 1. Binary Search"
   ]
  },
  {
   "cell_type": "code",
   "execution_count": 14,
   "id": "c144468f-68eb-48b9-90f1-62ff72710b7d",
   "metadata": {},
   "outputs": [
    {
     "name": "stdout",
     "output_type": "stream",
     "text": [
      "-1\n"
     ]
    }
   ],
   "source": [
    "class BinarySearch:\n",
    "    def recSol(self, i, j, arr, t):\n",
    "        mid=(i+j)//2\n",
    "        if arr[mid]==t:\n",
    "            return mid+1\n",
    "        elif i==j:\n",
    "            return -1\n",
    "        elif arr[mid]>t:\n",
    "            return self.recSol(i, mid-1, arr, t)\n",
    "        else:\n",
    "            return self.recSol(mid+1, j, arr, t)\n",
    "arr=[1,2,3,4,5,6,7,8,10]\n",
    "t=11\n",
    "o=BinarySearch()\n",
    "ans=o.recSol(0, len(arr)-1, arr, t)\n",
    "print(ans)"
   ]
  },
  {
   "cell_type": "markdown",
   "id": "f738f222-2e52-4883-bcd7-64253544f15b",
   "metadata": {},
   "source": [
    "## 2. Factroial"
   ]
  },
  {
   "cell_type": "code",
   "execution_count": 1,
   "id": "eb5d5c07-9035-4d33-8de8-2f1ad36169e9",
   "metadata": {},
   "outputs": [
    {
     "name": "stdout",
     "output_type": "stream",
     "text": [
      "6\n"
     ]
    }
   ],
   "source": [
    "class Factorial:\n",
    "    def recSol(self, n):\n",
    "        if n<=1:\n",
    "            return 1\n",
    "        return n*self.recSol(n-1)\n",
    "if __name__==\"__main__\":\n",
    "    f=Factorial()\n",
    "    print(f.recSol(3))\n",
    "        "
   ]
  },
  {
   "cell_type": "markdown",
   "id": "ad10d83b-e82c-4452-b5f2-a03d51059e02",
   "metadata": {},
   "source": [
    "## Sum of digits"
   ]
  },
  {
   "cell_type": "code",
   "execution_count": 29,
   "id": "eec3c792-9da3-4d46-9aea-8c1f6088dcb8",
   "metadata": {},
   "outputs": [
    {
     "name": "stdout",
     "output_type": "stream",
     "text": [
      "Method 1 30\n",
      "Method 2 30\n",
      "Mehtod 3 30\n"
     ]
    }
   ],
   "source": [
    "################## method 1 ##################\n",
    "\n",
    "n=1234569\n",
    "sum=0\n",
    "while n>0:\n",
    "    sum+=n%10\n",
    "    n=n//10\n",
    "print('Method 1',sum)\n",
    "\n",
    "\n",
    "################## Method 2 ##################\n",
    "\n",
    "class SumOfDigit1:\n",
    "    def __init__(self):\n",
    "        self.sum=0\n",
    "    def sol(self, n):\n",
    "        if n<1:\n",
    "            return self.sum\n",
    "        self.sum+=n%10\n",
    "        return self.sol(n//10)\n",
    "if __name__==\"__main__\":\n",
    "    s=SumOfDigit1()\n",
    "    print('Method 2',s.sol(1234569))\n",
    "    \n",
    "################## Method 3 ##################\n",
    "\n",
    "class SumOfDigit2:\n",
    "    def sol(self, n):\n",
    "        if n%10==n:\n",
    "            return n\n",
    "        return self.sol(n%10) + self.sol(n//10)\n",
    "if __name__==\"__main__\":\n",
    "    s=SumOfDigit2()\n",
    "    print('Mehtod 3',s.sol(1234569))"
   ]
  },
  {
   "cell_type": "markdown",
   "id": "9be0aaca-cd8c-4b8e-aca0-e977e2a2846a",
   "metadata": {},
   "source": [
    "## Reverse The Number"
   ]
  },
  {
   "cell_type": "code",
   "execution_count": 28,
   "id": "fa79c1e8-c342-4ee1-ad27-c401b245faeb",
   "metadata": {},
   "outputs": [
    {
     "name": "stdout",
     "output_type": "stream",
     "text": [
      "534314\n"
     ]
    }
   ],
   "source": [
    "class ReverseNumber:\n",
    "    def sol(self, n, sums=0):\n",
    "        if n==0:\n",
    "            return sums\n",
    "        sums=(sums*10)+(n%10)\n",
    "        return self.sol(n//10, sums)\n",
    "if __name__==\"__main__\":\n",
    "    s=ReverseNumber()\n",
    "    print(s.sol(413435))"
   ]
  },
  {
   "cell_type": "markdown",
   "id": "a76f2168-5bb4-4bf7-a648-59ec6f424ed4",
   "metadata": {},
   "source": [
    "## ArrayRecursion"
   ]
  },
  {
   "cell_type": "code",
   "execution_count": 3,
   "id": "850753af-8443-4413-bca4-a8f64afa0c16",
   "metadata": {},
   "outputs": [
    {
     "name": "stdout",
     "output_type": "stream",
     "text": [
      "False\n"
     ]
    }
   ],
   "source": [
    "class Sorted:\n",
    "    def sol(self, i, arr):\n",
    "        if i>=len(arr)-1:\n",
    "            return True\n",
    "        if arr[i]>arr[i+1]:\n",
    "            return False\n",
    "        i=i+1\n",
    "        return self.sol(i, arr)\n",
    "if __name__=='__main__':\n",
    "    s=Sorted()\n",
    "    print(s.sol(0, [1,2,3,6,4,5]))"
   ]
  },
  {
   "cell_type": "markdown",
   "id": "e56375e1-6e87-48f4-95ec-dcd939a84ca9",
   "metadata": {},
   "source": [
    "## Bubble sort using recursion"
   ]
  },
  {
   "cell_type": "code",
   "execution_count": 30,
   "id": "9e588200-24c6-4345-acd6-6a1b4f8b1cb5",
   "metadata": {},
   "outputs": [
    {
     "name": "stdout",
     "output_type": "stream",
     "text": [
      "[2, 3, 3, 3, 4, 5, 6, 6, 478]\n"
     ]
    }
   ],
   "source": [
    "class BubbleSort:\n",
    "    def sol(self, s, l, arr):\n",
    "        if s==0:\n",
    "            return\n",
    "        if l+1>=s:\n",
    "            s-=1\n",
    "            return self.sol(s, 0, arr)\n",
    "        if arr[l]>arr[l+1]:\n",
    "            arr[l], arr[l+1]=arr[l+1], arr[l]\n",
    "        l+=1\n",
    "        return self.sol(s, l, arr)\n",
    "if __name__=='__main__':\n",
    "    a=BubbleSort()\n",
    "#     arr=[5,4,3,2,6,1]\n",
    "    arr=[6,3,6,4,3,2,5,3,478]\n",
    "    a.sol(len(arr), 0, arr)\n",
    "    print(arr)"
   ]
  },
  {
   "cell_type": "markdown",
   "id": "d84af61d-26a7-4f10-825e-942ad447ec60",
   "metadata": {},
   "source": [
    "## Merge Sort"
   ]
  },
  {
   "cell_type": "code",
   "execution_count": 2,
   "id": "d10c1f22-cbc9-4077-9be6-3e15db5e3d89",
   "metadata": {},
   "outputs": [
    {
     "name": "stdout",
     "output_type": "stream",
     "text": [
      "[2, 3, 3, 3, 3, 4, 4, 5, 5, 6, 6, 24, 42, 254, 478]\n"
     ]
    }
   ],
   "source": [
    "class MergeSort:\n",
    "    \n",
    "    def merges(self, arr):\n",
    "        if len(arr)==1:\n",
    "            return arr\n",
    "        mid=(len(arr))//2\n",
    "        left=self.merges(arr[:mid])\n",
    "        right=self.merges(arr[mid:])\n",
    "        return self.sorts(left, right)\n",
    "    \n",
    "    def sorts(self, left, right):\n",
    "        l, r=len(left), len(right)\n",
    "        i, j=0, 0\n",
    "        ans=[]\n",
    "        while i<l and j<r:\n",
    "            if left[i]<right[j]:\n",
    "                ans.append(left[i])\n",
    "                i+=1\n",
    "            else:\n",
    "                ans.append(right[j])\n",
    "                j+=1\n",
    "        while i<l:\n",
    "            ans.append(left[i])\n",
    "            i+=1\n",
    "        while j<r:\n",
    "            ans.append(right[j])\n",
    "            j+=1\n",
    "        return ans\n",
    "if __name__=='__main__':\n",
    "    a=MergeSort()\n",
    "#     arr=[5,4,3,2,1]\n",
    "    arr=[6,3,6,4,3,2,5,3,5,4,3,42,254,24,478]\n",
    "    anr=a.merges(arr)\n",
    "    print(anr)"
   ]
  },
  {
   "cell_type": "markdown",
   "id": "dc8973fd-93b2-4813-93a9-6a6cd580e176",
   "metadata": {},
   "source": [
    " ## Merge Sort in-place"
   ]
  },
  {
   "cell_type": "code",
   "execution_count": 19,
   "id": "9167c8ed-fc9a-4807-8dc0-653c160754ef",
   "metadata": {},
   "outputs": [
    {
     "name": "stdout",
     "output_type": "stream",
     "text": [
      "[2, 3, 3, 3, 3, 4, 4, 5, 5, 6, 6, 24, 42, 254, 478]\n"
     ]
    }
   ],
   "source": [
    "class MergesortInPlace:\n",
    "    def mergesort(self, arr, s, e):\n",
    "        if e-s<=1:\n",
    "            return\n",
    "        m=(s+e)//2\n",
    "        self.mergesort(arr, s, m)\n",
    "        self.mergesort(arr, m, e)\n",
    "        self.merge(arr, s, m, e)\n",
    "    def merge(self, arr, s, m, e):\n",
    "        temp=[]\n",
    "        i, j=s,m \n",
    "        while i<m and j<e:\n",
    "            if arr[i]<arr[j]:\n",
    "                temp.append(arr[i])\n",
    "                i+=1\n",
    "            else:\n",
    "                temp.append(arr[j])\n",
    "                j+=1\n",
    "        while i<m:\n",
    "            temp.append(arr[i])\n",
    "            i+=1\n",
    "        while j<e:\n",
    "            temp.append(arr[j])\n",
    "            j+=1\n",
    "        i=0\n",
    "        while i<len(temp):\n",
    "            arr[s+i]=temp[i]\n",
    "            i+=1\n",
    "if __name__=='__main__':\n",
    "    a=MergesortInPlace()\n",
    "#     arr=[5,4,3,2,1]\n",
    "    arr=[6,3,6,4,3,2,5,3,5,4,3,42,254,24,478]\n",
    "    a.mergesort(arr, 0, len(arr))\n",
    "    print(arr)"
   ]
  },
  {
   "cell_type": "markdown",
   "id": "a5dc6000-e074-4da4-9330-4cc9d5b96669",
   "metadata": {},
   "source": [
    "## Quick Sort "
   ]
  },
  {
   "cell_type": "code",
   "execution_count": 54,
   "id": "805d2230-06fa-4b56-b41a-44708508bc5c",
   "metadata": {},
   "outputs": [
    {
     "name": "stdout",
     "output_type": "stream",
     "text": [
      "[2, 3, 5, 6, 6, 8, 9]\n"
     ]
    }
   ],
   "source": [
    "class QuickSort:\n",
    "    def Qsort(self, arr, low, high):\n",
    "        if low>=high:\n",
    "            return\n",
    "        i, j=low, high\n",
    "        p=arr[i]\n",
    "        while i<=j:\n",
    "            while arr[i]<p:\n",
    "                i+=1\n",
    "            while arr[j]>p:\n",
    "                j-=1\n",
    "            if i<=j:\n",
    "                arr[i], arr[j]=arr[j], arr[i]\n",
    "                i+=1\n",
    "                j-=1\n",
    "        self.Qsort(arr, low, j)\n",
    "        self.Qsort(arr, i, high)\n",
    "        \n",
    "if __name__=='__main__':\n",
    "    a=QuickSort()\n",
    "    arr=[6,3,9,5,2,8,6]\n",
    "#     arr=[6,3,6,4,3,2,5,3,5,4,3,42,254,24,478]\n",
    "    a.Qsort(arr, 0, len(arr)-1)\n",
    "    print(arr)"
   ]
  },
  {
   "cell_type": "markdown",
   "id": "1a6ad38d-e407-4fbc-bb0a-7d62fc6c0de0",
   "metadata": {},
   "source": [
    "## Family structure"
   ]
  },
  {
   "cell_type": "code",
   "execution_count": null,
   "id": "1dc03b50-9625-4b0f-baa5-328fbf9cf90f",
   "metadata": {},
   "outputs": [],
   "source": [
    "class FamilyStructure:\n",
    "    def sols(self, g, n):\n",
    "        "
   ]
  }
 ],
 "metadata": {
  "kernelspec": {
   "display_name": "Python 3",
   "language": "python",
   "name": "python3"
  },
  "language_info": {
   "codemirror_mode": {
    "name": "ipython",
    "version": 3
   },
   "file_extension": ".py",
   "mimetype": "text/x-python",
   "name": "python",
   "nbconvert_exporter": "python",
   "pygments_lexer": "ipython3",
   "version": "3.8.8"
  }
 },
 "nbformat": 4,
 "nbformat_minor": 5
}
