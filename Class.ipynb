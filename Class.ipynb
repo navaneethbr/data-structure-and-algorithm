{
 "cells": [
  {
   "cell_type": "code",
   "execution_count": null,
   "id": "8ac4f786-74bc-4f15-bf5d-d186334108c0",
   "metadata": {},
   "outputs": [],
   "source": [
    "class Test:\n",
    "    a=10\n",
    "    def __init__(self):\n",
    "        self.b=100\n",
    "t1=Test()\n",
    "t2=Test()\n",
    "print(\"t1\", t1.a, t1.b)\n",
    "print(\"t2\",t2.a, t2.b)\n",
    "print('t2aid', id(t2.a))\n",
    "print('t1aid', id(t1.a))\n",
    "t2.a=10000\n",
    "print('t2.aid', id(t2.a))\n",
    "print('Test.id', id(Test.a))\n",
    "print('t1aid', id(t1.a))\n",
    "print(\"t2\",t2.a, t2.b)\n",
    "print(\"t1\", t1.a, t1.b)"
   ]
  },
  {
   "cell_type": "code",
   "execution_count": 9,
   "id": "8d0281c1-9381-4eec-9690-db873a5b6cfc",
   "metadata": {},
   "outputs": [
    {
     "name": "stdout",
     "output_type": "stream",
     "text": [
      "nava\n",
      "20\n",
      "ficj\n"
     ]
    }
   ],
   "source": [
    "class Student:\n",
    "    def __init__(self, name, rollno):\n",
    "        self.nam=name\n",
    "        self.roll=rollno\n",
    "    def resd(self):\n",
    "        print(self.nam)\n",
    "        print(self.roll)\n",
    "  \n",
    "    \n",
    "s=Student('nava', 20)\n",
    "# print(s.__dict__)\n",
    "print(s.resd())\n",
    "# print(Student.__dict__)"
   ]
  },
  {
   "cell_type": "markdown",
   "id": "4c89e6cf-7edf-4e3d-96d6-746a923e0396",
   "metadata": {},
   "source": [
    "## Instance Method, Class Method, Static Method "
   ]
  },
  {
   "cell_type": "code",
   "execution_count": 13,
   "id": "90003afa-9e42-46d6-a10c-3805c7bb865c",
   "metadata": {},
   "outputs": [
    {
     "name": "stdout",
     "output_type": "stream",
     "text": [
      "nava\n",
      "20\n",
      "Bangalore\n",
      "73\n"
     ]
    }
   ],
   "source": [
    "class Student:\n",
    "    city = 'Bangalore'\n",
    "    def __init__(self, name, rollno):\n",
    "        self.nam=name\n",
    "        self.roll=rollno\n",
    "        \n",
    "    #instance method \n",
    "    def resd(self):\n",
    "        print(self.nam)\n",
    "        print(self.roll)\n",
    "        \n",
    "    #class method \n",
    "    @classmethod\n",
    "    def schoolname(cls, schollname):\n",
    "        print(Student.city)\n",
    "        cls.schoolname = schollname\n",
    "        \n",
    "    #static method\n",
    "    @staticmethod\n",
    "    def totalcount(x, y):\n",
    "        z=x+y\n",
    "        print(z)\n",
    "        \n",
    "s=Student('nava', 20)\n",
    "s.resd()\n",
    "Student.schoolname(\"DPS\")\n",
    "Student.totalcount(20, 53)"
   ]
  },
  {
   "cell_type": "markdown",
   "id": "67b89480-d969-43e5-8432-3ea8e63e8b80",
   "metadata": {},
   "source": [
    "## Simple Example for class and objects"
   ]
  },
  {
   "cell_type": "code",
   "execution_count": 4,
   "id": "f2aa38a2-05f6-4843-a0b8-de796e7d8bc1",
   "metadata": {},
   "outputs": [
    {
     "name": "stdout",
     "output_type": "stream",
     "text": [
      "Welcome to SBI\n"
     ]
    },
    {
     "name": "stdin",
     "output_type": "stream",
     "text": [
      "Enter your name: Navaneeth B R\n"
     ]
    },
    {
     "name": "stdout",
     "output_type": "stream",
     "text": [
      "Hi Navaneeth B R\n"
     ]
    },
    {
     "name": "stdin",
     "output_type": "stream",
     "text": [
      "Enter 1 to deposite\n",
      "Enter 2 for withdrawal\n",
      "Enter 3 to exit\n",
      " 1\n",
      "Enter the amount to deposite: 100000\n"
     ]
    },
    {
     "name": "stdout",
     "output_type": "stream",
     "text": [
      "Balance after deposite is 110000\n"
     ]
    },
    {
     "name": "stdin",
     "output_type": "stream",
     "text": [
      "Enter 1 to deposite\n",
      "Enter 2 for withdrawal\n",
      "Enter 3 to exit\n",
      " 1\n",
      "Enter the amount to deposite: 300000\n"
     ]
    },
    {
     "name": "stdout",
     "output_type": "stream",
     "text": [
      "Balance after deposite is 410000\n"
     ]
    },
    {
     "name": "stdin",
     "output_type": "stream",
     "text": [
      "Enter 1 to deposite\n",
      "Enter 2 for withdrawal\n",
      "Enter 3 to exit\n",
      " 3\n"
     ]
    },
    {
     "name": "stdout",
     "output_type": "stream",
     "text": [
      "Thank you for banking with SBI\n"
     ]
    },
    {
     "ename": "SystemExit",
     "evalue": "",
     "output_type": "error",
     "traceback": [
      "An exception has occurred, use %tb to see the full traceback.\n",
      "\u001b[1;31mSystemExit\u001b[0m\n"
     ]
    },
    {
     "name": "stderr",
     "output_type": "stream",
     "text": [
      "C:\\Users\\LENOVO\\anaconda3\\lib\\site-packages\\IPython\\core\\interactiveshell.py:3445: UserWarning: To exit: use 'exit', 'quit', or Ctrl-D.\n",
      "  warn(\"To exit: use 'exit', 'quit', or Ctrl-D.\", stacklevel=1)\n"
     ]
    }
   ],
   "source": [
    "import sys\n",
    "\n",
    "class Customer:\n",
    "    \"\"\"this is a class for bank customers\"\"\"\n",
    "    bankname='SBI'\n",
    "    def __init__(self, name, balance=0):\n",
    "        self.name = name\n",
    "        self.balance = balance\n",
    "    def deposite(self, amount):\n",
    "        self.balance = self.balance+amount\n",
    "        print(\"Balance after deposite is\",self.balance)\n",
    "    def withdraw(self, amount):\n",
    "        if amount>self.balance:\n",
    "            print(\"Invalid entry, Amount entered is more than balance\")\n",
    "            sys.exit()\n",
    "        self.balance = self.balance - amount\n",
    "        print(\"Balance after withdrawal is\",self.balance)\n",
    "print(\"Welcome to SBI\")\n",
    "name = input(\"Enter your name:\")\n",
    "c = Customer(name, 10000)\n",
    "print(\"Hi {}\".format(name))\n",
    "while True:\n",
    "    n = int(input(\"Enter 1 to deposite\\nEnter 2 for withdrawal\\nEnter 3 to exit\\n\"))\n",
    "    if n==1:\n",
    "        amt = int(input(\"Enter the amount to deposite:\"))\n",
    "        c.deposite(amt)\n",
    "    elif n==2:\n",
    "        amt  = int(input(\"Enter the amount for withdrawal\"))\n",
    "        c.withdraw\n",
    "    else:\n",
    "        print(\"Thank you for banking with SBI\")\n",
    "        sys.exit()\n",
    "    "
   ]
  },
  {
   "cell_type": "markdown",
   "id": "399a27c3-ce55-451c-b34e-1df371609baf",
   "metadata": {},
   "source": [
    "## Inner class "
   ]
  },
  {
   "cell_type": "code",
   "execution_count": 11,
   "id": "787f95c4-77f5-48bd-ac89-18a7675e1cd1",
   "metadata": {},
   "outputs": [
    {
     "name": "stdout",
     "output_type": "stream",
     "text": [
      "this is outer method1\n",
      "this is inner method1\n"
     ]
    }
   ],
   "source": [
    "class Outer:\n",
    "    def __inti__(self):\n",
    "        print(\"this is outer class\")\n",
    "    def m1(self, x):\n",
    "        self.x = x\n",
    "        print(\"this is outer method{}\".format(self.x))\n",
    "    class Inner():\n",
    "        def __inti__(self):\n",
    "            print(\"this is inner class\")\n",
    "        def m2(self, y):\n",
    "            self.y = y\n",
    "            print(\"this is inner method{}\".format(self.y))\n",
    "o = Outer()\n",
    "i = o.Inner()\n",
    "o.m1(1)\n",
    "i.m2(1)\n",
    "# o.m2(2)\n",
    "# i.m1(2)"
   ]
  },
  {
   "cell_type": "code",
   "execution_count": 14,
   "id": "9ee2c0be-fc74-40a6-a93d-02f9b245b9dd",
   "metadata": {},
   "outputs": [
    {
     "name": "stdout",
     "output_type": "stream",
     "text": [
      "Name: Durga\n",
      "Date of Birth:23/3/2000\n"
     ]
    }
   ],
   "source": [
    "class Person:\n",
    "    def __init__(self, name, dd, mm ,yyyy):\n",
    "        self.name = name\n",
    "        self.dob = self.DOB(dd, mm, yyyy)\n",
    "    def display(self):\n",
    "        print('Name:', self.name)\n",
    "        self.dob.display()\n",
    "    class DOB:\n",
    "        def __init__(self, dd, mm, yyyy):\n",
    "            self.dd = dd\n",
    "            self.mm = mm\n",
    "            self.yyyy = yyyy\n",
    "        def display(self):\n",
    "            print('Date of Birth:{}/{}/{}'.format(self.dd, self.mm, self.yyyy ))\n",
    "p = Person('Durga', 23, 3, 2000)\n",
    "p.display()"
   ]
  },
  {
   "cell_type": "markdown",
   "id": "d4c6e8e0-c67d-448d-8dd9-01372d391ec0",
   "metadata": {},
   "source": [
    "## Garbage collenction\n",
    "### use terminal to run"
   ]
  },
  {
   "cell_type": "code",
   "execution_count": 6,
   "id": "ac0067a6-549c-4846-927c-f72bbf8938cf",
   "metadata": {},
   "outputs": [
    {
     "name": "stdout",
     "output_type": "stream",
     "text": [
      "object initialization\n",
      "end of application\n"
     ]
    }
   ],
   "source": [
    "import time \n",
    "\n",
    "class Test:\n",
    "    def __init__(self):\n",
    "        print(\"object initialization\")\n",
    "    def __del__(self):\n",
    "        print(\"object distruction\")\n",
    "t1 = Test()\n",
    "# t1 = None\n",
    "time.sleep(5)\n",
    "print(\"end of application\")"
   ]
  },
  {
   "cell_type": "code",
   "execution_count": null,
   "id": "6df21407-ea94-42b4-abaa-3c1a9d4628b9",
   "metadata": {},
   "outputs": [],
   "source": []
  }
 ],
 "metadata": {
  "kernelspec": {
   "display_name": "Python 3",
   "language": "python",
   "name": "python3"
  },
  "language_info": {
   "codemirror_mode": {
    "name": "ipython",
    "version": 3
   },
   "file_extension": ".py",
   "mimetype": "text/x-python",
   "name": "python",
   "nbconvert_exporter": "python",
   "pygments_lexer": "ipython3",
   "version": "3.8.8"
  }
 },
 "nbformat": 4,
 "nbformat_minor": 5
}
