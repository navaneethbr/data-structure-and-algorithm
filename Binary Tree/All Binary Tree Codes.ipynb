{
 "cells": [
  {
   "cell_type": "markdown",
   "id": "a3bbc5de-429b-4069-808f-a692b1d2271c",
   "metadata": {
    "tags": []
   },
   "source": [
    "## Binary Search Tree Iterative"
   ]
  },
  {
   "cell_type": "code",
   "execution_count": null,
   "id": "0465a920-672b-462c-9ff7-8c666a4f033a",
   "metadata": {},
   "outputs": [],
   "source": [
    "class Node:\n",
    "    def __init__(self, val):\n",
    "        self.val = val\n",
    "        self.left = None\n",
    "        self.right = None\n",
    "class BinarySearchTree:\n",
    "    def __init__(self):\n",
    "        self.root = None\n",
    "    \n",
    "    def addVal(self, value):\n",
    "        if self.root == None:\n",
    "            self.root = Node(value)\n",
    "        else:\n",
    "            n = self.root\n",
    "            while True:\n",
    "                if value < n.val:\n",
    "                    if n.left == None:\n",
    "                        n.left = Node(value)\n",
    "                        break\n",
    "                    n = n.left\n",
    "                else:\n",
    "                    if n.right == None:\n",
    "                        n.right = Node(value)\n",
    "                        break\n",
    "                    n = n.right\n",
    "        print(\"Enter True if you want to continue else False\")\n",
    "        ans = input().lower() == 'true'\n",
    "        if not ans:\n",
    "            return self.root\n",
    "        val = int(input(print(\"Enter the valur to be inserted in BST\")))\n",
    "        return self.addVal(val)\n",
    "    def printNode(self, root):\n",
    "        if root == None:\n",
    "            return\n",
    "        print(root.val)\n",
    "        self.printNode(root.left)\n",
    "        self.printNode(root.right)\n",
    "if __name__ == '__main__':\n",
    "    val = int(input(print(\"Enter the first value to be entred\")))\n",
    "    node = BinarySearchTree()\n",
    "    root = node.addVal(val)\n",
    "    node.printNode(root)"
   ]
  },
  {
   "cell_type": "markdown",
   "id": "59e633ab-7ca8-4d35-a26c-0bf27ef5bc95",
   "metadata": {
    "tags": []
   },
   "source": [
    "## BST Recurssive using only \"self\""
   ]
  },
  {
   "cell_type": "code",
   "execution_count": 27,
   "id": "1156dd49-1338-4f12-b768-20072f21acad",
   "metadata": {
    "collapsed": true,
    "jupyter": {
     "outputs_hidden": true
    },
    "tags": []
   },
   "outputs": [
    {
     "name": "stdout",
     "output_type": "stream",
     "text": [
      "Enter True if you want to enter value else False\n"
     ]
    },
    {
     "name": "stdin",
     "output_type": "stream",
     "text": [
      " true\n"
     ]
    },
    {
     "name": "stdout",
     "output_type": "stream",
     "text": [
      "Enter the value to be entered\n"
     ]
    },
    {
     "name": "stdin",
     "output_type": "stream",
     "text": [
      " 4\n"
     ]
    },
    {
     "name": "stdout",
     "output_type": "stream",
     "text": [
      "Enter True if you want to enter value else False\n"
     ]
    },
    {
     "name": "stdin",
     "output_type": "stream",
     "text": [
      " true\n"
     ]
    },
    {
     "name": "stdout",
     "output_type": "stream",
     "text": [
      "Enter the value to be entered\n"
     ]
    },
    {
     "name": "stdin",
     "output_type": "stream",
     "text": [
      " 5\n"
     ]
    },
    {
     "name": "stdout",
     "output_type": "stream",
     "text": [
      "Enter True if you want to enter value else False\n"
     ]
    },
    {
     "name": "stdin",
     "output_type": "stream",
     "text": [
      " true\n"
     ]
    },
    {
     "name": "stdout",
     "output_type": "stream",
     "text": [
      "Enter the value to be entered\n"
     ]
    },
    {
     "name": "stdin",
     "output_type": "stream",
     "text": [
      " 3\n"
     ]
    },
    {
     "name": "stdout",
     "output_type": "stream",
     "text": [
      "Enter True if you want to enter value else False\n"
     ]
    },
    {
     "name": "stdin",
     "output_type": "stream",
     "text": [
      " true\n"
     ]
    },
    {
     "name": "stdout",
     "output_type": "stream",
     "text": [
      "Enter the value to be entered\n"
     ]
    },
    {
     "name": "stdin",
     "output_type": "stream",
     "text": [
      " 2\n"
     ]
    },
    {
     "name": "stdout",
     "output_type": "stream",
     "text": [
      "Enter True if you want to enter value else False\n"
     ]
    },
    {
     "name": "stdin",
     "output_type": "stream",
     "text": [
      " true\n"
     ]
    },
    {
     "name": "stdout",
     "output_type": "stream",
     "text": [
      "Enter the value to be entered\n"
     ]
    },
    {
     "name": "stdin",
     "output_type": "stream",
     "text": [
      " 6\n"
     ]
    },
    {
     "name": "stdout",
     "output_type": "stream",
     "text": [
      "Enter True if you want to enter value else False\n"
     ]
    },
    {
     "name": "stdin",
     "output_type": "stream",
     "text": [
      " true\n"
     ]
    },
    {
     "name": "stdout",
     "output_type": "stream",
     "text": [
      "Enter the value to be entered\n"
     ]
    },
    {
     "name": "stdin",
     "output_type": "stream",
     "text": [
      " 8\n"
     ]
    },
    {
     "name": "stdout",
     "output_type": "stream",
     "text": [
      "Enter True if you want to enter value else False\n"
     ]
    },
    {
     "name": "stdin",
     "output_type": "stream",
     "text": [
      " f\n"
     ]
    },
    {
     "name": "stdout",
     "output_type": "stream",
     "text": [
      "5\n",
      "4\n",
      "3\n",
      "2\n",
      "5\n",
      "6\n",
      "8\n"
     ]
    }
   ],
   "source": [
    "class TreeNode:\n",
    "    def __init__(self, val):\n",
    "        self.val = val\n",
    "        self.left = None\n",
    "        self.right = None\n",
    "        \n",
    "class BinarySearchTree(TreeNode):\n",
    "    \n",
    "    def addelement(self, val):\n",
    "        if val < self.val:\n",
    "            if self.left == None:\n",
    "                self.left = BinarySearchTree(val)\n",
    "            else:\n",
    "                self.left.addelement(val)\n",
    "              \n",
    "        else: \n",
    "            if self.right == None:\n",
    "                self.right = BinarySearchTree(val)\n",
    "            else:\n",
    "                self.right.addelement(val)\n",
    "            \n",
    "    def displaytree(self):\n",
    "        if self == None:\n",
    "            return\n",
    "        print(self.val)\n",
    "        if self.left:\n",
    "            self.left.displaytree()\n",
    "        if self.right:\n",
    "            self.right.displaytree()\n",
    "        \n",
    "if __name__ == \"__main__\":\n",
    "    tree = BinarySearchTree(5)\n",
    "    while True:\n",
    "        print(\"Enter True if you want to enter value else False\")\n",
    "        ans = input().lower() == 'true'\n",
    "        if ans:\n",
    "            print(\"Enter the value to be entered\")\n",
    "            val = int(input())\n",
    "            tree.addelement(val)\n",
    "        else:\n",
    "            break\n",
    "    tree.displaytree()\n",
    "    "
   ]
  },
  {
   "cell_type": "markdown",
   "id": "cfe44649-8635-43d2-b006-3d80a9135274",
   "metadata": {
    "tags": []
   },
   "source": [
    "## BST Recurssive without using \"self\""
   ]
  },
  {
   "cell_type": "code",
   "execution_count": 33,
   "id": "e985dbfb-cb0b-45a6-aaf2-bb6739cb57bf",
   "metadata": {
    "tags": []
   },
   "outputs": [
    {
     "name": "stdout",
     "output_type": "stream",
     "text": [
      "Enter True if you want to enter value else False\n"
     ]
    },
    {
     "name": "stdin",
     "output_type": "stream",
     "text": [
      " true\n"
     ]
    },
    {
     "name": "stdout",
     "output_type": "stream",
     "text": [
      "Enter the value to be enterd\n"
     ]
    },
    {
     "name": "stdin",
     "output_type": "stream",
     "text": [
      " 5\n"
     ]
    },
    {
     "name": "stdout",
     "output_type": "stream",
     "text": [
      "Enter True if you want to enter value else False\n"
     ]
    },
    {
     "name": "stdin",
     "output_type": "stream",
     "text": [
      " true\n"
     ]
    },
    {
     "name": "stdout",
     "output_type": "stream",
     "text": [
      "Enter the value to be enterd\n"
     ]
    },
    {
     "name": "stdin",
     "output_type": "stream",
     "text": [
      " 3\n"
     ]
    },
    {
     "name": "stdout",
     "output_type": "stream",
     "text": [
      "Enter True if you want to enter value else False\n"
     ]
    },
    {
     "name": "stdin",
     "output_type": "stream",
     "text": [
      " true\n"
     ]
    },
    {
     "name": "stdout",
     "output_type": "stream",
     "text": [
      "Enter the value to be enterd\n"
     ]
    },
    {
     "name": "stdin",
     "output_type": "stream",
     "text": [
      " 6\n"
     ]
    },
    {
     "name": "stdout",
     "output_type": "stream",
     "text": [
      "Enter True if you want to enter value else False\n"
     ]
    },
    {
     "name": "stdin",
     "output_type": "stream",
     "text": [
      " true\n"
     ]
    },
    {
     "name": "stdout",
     "output_type": "stream",
     "text": [
      "Enter the value to be enterd\n"
     ]
    },
    {
     "name": "stdin",
     "output_type": "stream",
     "text": [
      " 2\n"
     ]
    },
    {
     "name": "stdout",
     "output_type": "stream",
     "text": [
      "Enter True if you want to enter value else False\n"
     ]
    },
    {
     "name": "stdin",
     "output_type": "stream",
     "text": [
      " true\n"
     ]
    },
    {
     "name": "stdout",
     "output_type": "stream",
     "text": [
      "Enter the value to be enterd\n"
     ]
    },
    {
     "name": "stdin",
     "output_type": "stream",
     "text": [
      " 1\n"
     ]
    },
    {
     "name": "stdout",
     "output_type": "stream",
     "text": [
      "Enter True if you want to enter value else False\n"
     ]
    },
    {
     "name": "stdin",
     "output_type": "stream",
     "text": [
      " \n"
     ]
    },
    {
     "name": "stdout",
     "output_type": "stream",
     "text": [
      "5 3\n",
      "3 2\n",
      "2 1\n",
      "1 0\n",
      "6 0\n"
     ]
    }
   ],
   "source": [
    "class TreeNode:\n",
    "    def __init__(self, val):\n",
    "        self.val = val\n",
    "        self.left = None\n",
    "        self.right = None\n",
    "        self.height = 0\n",
    "class BinarySearchTree:\n",
    "    def __init__(self):\n",
    "        self.root = None\n",
    "    \n",
    "    def addel(self):\n",
    "        print(\"Enter the value to be enterd\")\n",
    "        val = int(input())\n",
    "        if self.root == None:\n",
    "            self.root = TreeNode(val)\n",
    "        else:\n",
    "            self.addelement(val, self.root)\n",
    "\n",
    "    def addelement(self, val, node):\n",
    "        \n",
    "        if val < node.val:\n",
    "            if node.left == None:\n",
    "                node.left = TreeNode(val)\n",
    "            else:\n",
    "                self.addelement(val, node.left)\n",
    "              \n",
    "        else: \n",
    "            if node.right == None:\n",
    "                node.right = TreeNode(val)\n",
    "            else:\n",
    "                self.addelement(val, node.right)\n",
    "                \n",
    "        node.height = max(self.height(node.left), self.height(node.right))+1\n",
    "    \n",
    "    def height(self, node):\n",
    "        if node == None:\n",
    "            return -1\n",
    "        return node.height\n",
    "            \n",
    "    def display(self):\n",
    "        self.displaytree(self.root)\n",
    "        \n",
    "    def displaytree(self, node):\n",
    "        if node == None:\n",
    "            return\n",
    "        print(node.val, node.height)\n",
    "        self.displaytree(node.left)\n",
    "        self.displaytree(node.right)\n",
    "        \n",
    "if __name__ == \"__main__\":\n",
    "    tree = BinarySearchTree()\n",
    "    while True:\n",
    "        print(\"Enter True if you want to enter value else False\")\n",
    "        ans = input().lower() == 'true'\n",
    "        if ans:\n",
    "            tree.addel()\n",
    "        else:\n",
    "            break\n",
    "    tree.display()"
   ]
  },
  {
   "cell_type": "markdown",
   "id": "ccc9d240-ac4a-45a6-a730-927224035fda",
   "metadata": {
    "tags": []
   },
   "source": [
    "## Binary search tree with height"
   ]
  },
  {
   "cell_type": "code",
   "execution_count": 29,
   "id": "c30463a5-4e1f-49fe-ba67-57bfb7cd2770",
   "metadata": {
    "tags": []
   },
   "outputs": [
    {
     "name": "stdout",
     "output_type": "stream",
     "text": [
      "Displaying the tree:\n",
      "Root Node: 3\n",
      "Left child of 3 : 1\n",
      "Left child of 1 : 0\n",
      "Right child of 1 : 2\n",
      "Right child of 3 : 5\n",
      "Left child of 5 : 4\n",
      "Right child of 5 : 6\n",
      "Displaying the heights of each node:\n",
      "Node 3 has height 2\n",
      "Node 1 has height 1\n",
      "Node 0 has height 0\n",
      "Node 2 has height 0\n",
      "Node 5 has height 1\n",
      "Node 4 has height 0\n",
      "Node 6 has height 0\n"
     ]
    }
   ],
   "source": [
    "class TreeNode:\n",
    "    def __init__(self, val):\n",
    "        self.val = val\n",
    "        self.left = None\n",
    "        self.right = None\n",
    "        self.height = 0\n",
    "\n",
    "class BinarySearchTree(TreeNode):\n",
    "\n",
    "    def addelement(self, val):\n",
    "        if val < self.val:\n",
    "            if self.left is None:\n",
    "                self.left = BinarySearchTree(val)\n",
    "            else:\n",
    "                self.left.addelement(val)\n",
    "        else:\n",
    "            if self.right is None:\n",
    "                self.right = BinarySearchTree(val)\n",
    "            else:\n",
    "                self.right.addelement(val)\n",
    "\n",
    "        # Calculate and set the height after inserting\n",
    "        self.height = max(self._get_height(self.left), self._get_height(self.right)) + 1\n",
    "\n",
    "    def displaytree(self):\n",
    "        if self is None:\n",
    "            return\n",
    "        print(self.val)\n",
    "        if self.left:\n",
    "            self.left.displaytree()\n",
    "        if self.right:\n",
    "            self.right.displaytree()\n",
    "\n",
    "    def _get_height(self, node):\n",
    "        if node is None:\n",
    "            return -1\n",
    "        return node.height\n",
    "\n",
    "    def display_heights(self):\n",
    "        self._display_heights(self)\n",
    "\n",
    "    def _display_heights(self, node):\n",
    "        if node is None:\n",
    "            return\n",
    "        print(f\"Node {node.val} has height {node.height}\")\n",
    "        if node.left:\n",
    "            self._display_heights(node.left)\n",
    "        if node.right:\n",
    "            self._display_heights(node.right)\n",
    "\n",
    "if __name__ == \"__main__\":\n",
    "    tree = BinarySearchTree(5)\n",
    "    while True:\n",
    "        print(\"Enter True if you want to enter a value else False\")\n",
    "        ans = input().lower() == 'true'\n",
    "        if ans:\n",
    "            print(\"Enter the value to be entered\")\n",
    "            val = int(input())\n",
    "            tree.addelement(val)\n",
    "        else:\n",
    "            break\n",
    "\n",
    "    print(\"Displaying the tree:\")\n",
    "    tree.displaytree()\n",
    "\n",
    "    print(\"Displaying the heights of each node:\")\n",
    "    tree.display_heights()\n"
   ]
  },
  {
   "cell_type": "markdown",
   "id": "17a8be1e-4a39-4fc7-8669-f4f35814828d",
   "metadata": {
    "tags": []
   },
   "source": [
    "## Binary search tree with height, balance functions"
   ]
  },
  {
   "cell_type": "code",
   "execution_count": 45,
   "id": "b44852e3-5821-402d-a61f-0b658d08997c",
   "metadata": {
    "tags": []
   },
   "outputs": [
    {
     "name": "stdout",
     "output_type": "stream",
     "text": [
      "Displaying the tree:\n",
      "Vlaue of Node 3 and the Height 2\n",
      "Vlaue of Node 1 and the Height 1\n",
      "Vlaue of Node 0 and the Height 0\n",
      "Vlaue of Node 2 and the Height 0\n",
      "Vlaue of Node 5 and the Height 1\n",
      "Vlaue of Node 4 and the Height 0\n",
      "Vlaue of Node 6 and the Height 0\n",
      "\n",
      "check if the tree is balanced or not\n",
      "True\n"
     ]
    }
   ],
   "source": [
    "class BinarySearchTree:   \n",
    "    def __init__(self, val):\n",
    "        self.val = val\n",
    "        self.left = None\n",
    "        self.right = None\n",
    "        self.height = 0\n",
    "        \n",
    "    def addelement(self, val):\n",
    "        if val < self.val:\n",
    "            if self.left == None:\n",
    "                self.left = BinarySearchTree(val)\n",
    "            else:\n",
    "                self.left.addelement(val)\n",
    "        else:\n",
    "            if self.right == None:\n",
    "                self.right = BinarySearchTree(val)\n",
    "            else:\n",
    "                self.right.addelement(val)\n",
    "                \n",
    "        self.height = max(self.left.heightTree() if self.left else -1, self.right.heightTree() if self.right else -1) + 1\n",
    "    \n",
    "    def heightTree(self):\n",
    "        return self.height\n",
    "        \n",
    "    def display(self):\n",
    "        print(\"Vlaue of Node {}\".format(self.val), \"and the Height {}\".format(self.height))\n",
    "        if self.left:\n",
    "            self.left.display()\n",
    "        if self.right:\n",
    "            self.right.display()\n",
    "        \n",
    "    def balancedTree(self):\n",
    "        if abs((self.left.heightTree() if self.left else -1) - (self.right.heightTree() if self.right else -1)) <=1:\n",
    "            return (self.left.balancedTree() if self.left else True) and (self.right.balancedTree() if self.right else True)\n",
    "        else:\n",
    "            return False\n",
    "        \n",
    "if __name__ == \"__main__\":\n",
    "    tree = BinarySearchTree(3)\n",
    "    nums = [1, 5, 0, 2, 4, 6]\n",
    "    for num in nums:\n",
    "        tree.addelement(num)\n",
    "\n",
    "    print(\"Displaying the tree:\")\n",
    "    tree.display()\n",
    "    \n",
    "    print(\"\\ncheck if the tree is balanced or not\")\n",
    "    print(tree.balancedTree())"
   ]
  },
  {
   "cell_type": "markdown",
   "id": "e790f1b6-c149-4fc5-a536-c14d8e86f54f",
   "metadata": {
    "tags": []
   },
   "source": [
    "## AVL Tree without using 'self' (Not so good Code)"
   ]
  },
  {
   "cell_type": "code",
   "execution_count": 134,
   "id": "792933f0-5b25-4544-9221-66e2c0d4d274",
   "metadata": {
    "tags": []
   },
   "outputs": [
    {
     "name": "stdout",
     "output_type": "stream",
     "text": [
      "Displaying the tree:\n",
      "Vlaue of Node 4 and the Height 2\n",
      "Vlaue of Node 2 and the Height 1\n",
      "Vlaue of Node 1 and the Height 0\n",
      "Vlaue of Node 3 and the Height 0\n",
      "Vlaue of Node 6 and the Height 1\n",
      "Vlaue of Node 5 and the Height 0\n",
      "Vlaue of Node 7 and the Height 0\n",
      "\n",
      "check if the tree is balanced or not\n",
      "True\n"
     ]
    }
   ],
   "source": [
    "class TreeNode:\n",
    "    def __init__(self, val):\n",
    "        self.val = val\n",
    "        self.left = None\n",
    "        self.right = None\n",
    "        self.height = 0\n",
    "class BinarySearchTree:\n",
    "    def __init__(self):\n",
    "        self.root = None\n",
    "    \n",
    "    def addel(self):\n",
    "        nums = [1, 2, 3, 4, 5, 6, 7]\n",
    "        for num in nums:\n",
    "            if self.root == None:\n",
    "                self.root = TreeNode(num)\n",
    "            else:\n",
    "                self.root = self.addelement(num, self.root)\n",
    "\n",
    "    def addelement(self, val, node):\n",
    "        \n",
    "        if val < node.val:\n",
    "            if node.left == None:\n",
    "                node.left = TreeNode(val)\n",
    "            else:\n",
    "                node.left = self.addelement(val, node.left)\n",
    "              \n",
    "        else: \n",
    "            if node.right == None:\n",
    "                node.right = TreeNode(val)\n",
    "            else:\n",
    "                node.right = self.addelement(val, node.right)\n",
    "                \n",
    "        node.height = max(self.height(node.left), self.height(node.right)) + 1 \n",
    "        \n",
    "        return self.rotate(node, val)\n",
    "\n",
    "    \n",
    "    def height(self, node):\n",
    "        if node == None:\n",
    "            return -1\n",
    "        return node.height\n",
    "            \n",
    "    def display(self):\n",
    "        self.displaytree(self.root)\n",
    "        \n",
    "    def displaytree(self, node):\n",
    "        if node == None:\n",
    "            return\n",
    "        print(\"Vlaue of Node {}\".format(node.val), \"and the Height {}\".format(node.height))\n",
    "        self.displaytree(node.left)\n",
    "        self.displaytree(node.right)\n",
    "        \n",
    "    def balance(self):\n",
    "        return self.balanceTree(self.root)\n",
    "        \n",
    "    def balanceTree(self, node):\n",
    "        if node == None:\n",
    "            return True\n",
    "        if abs(self.height(node.left) - self.height(node.right)) <= 1:\n",
    "            return (self.balanceTree(node.left) and self.balanceTree(node.right))\n",
    "        else:\n",
    "            return False\n",
    "    \n",
    "    def rotate(self, node, val):\n",
    "        if (self.height(node.left) - self.height(node.right)) > 1:\n",
    "            if val < node.left.val:\n",
    "                return self.rightRotate(node)\n",
    "            if val > node.left.val:\n",
    "                node.left = self.leftRotate(node)\n",
    "                return self.rightRotate(node)\n",
    "        if (self.height(node.right) - self.height(node.left)) > 1:\n",
    "            if val > node.right.val:\n",
    "                return self.leftRotate(node)\n",
    "            if val < node.right.val:\n",
    "                node.right = self.rightRotate(node)\n",
    "                return self.leftRotate(node)\n",
    "            \n",
    "        return node\n",
    "    \n",
    "    def leftRotate(self, node):\n",
    "        c = node.right\n",
    "        t = c.left\n",
    "        \n",
    "        c.left = node\n",
    "        node.right = t\n",
    "        \n",
    "        node.height = max(self.height(node.left), self.height(node.right)) + 1\n",
    "        c.height = max(self.height(c.left), self.height(c.right)) + 1\n",
    "        \n",
    "        return c\n",
    "    \n",
    "    def rightRotate(self, node):\n",
    "        c = node.left\n",
    "        t = c.right\n",
    "        \n",
    "        c.right = node\n",
    "        node.left = t \n",
    "        \n",
    "        node.height = max(self.height(node.left), self.height(node.right)) + 1\n",
    "        c.height = max(self.height(c.left), self.height(c.right)) + 1\n",
    "        \n",
    "        return c\n",
    "        \n",
    "if __name__ == \"__main__\":\n",
    "    tree = BinarySearchTree()\n",
    "    tree.addel()\n",
    "\n",
    "    print(\"Displaying the tree:\")\n",
    "    tree.display()\n",
    "    \n",
    "    print(\"\\ncheck if the tree is balanced or not\")\n",
    "    print(tree.balance())"
   ]
  },
  {
   "cell_type": "markdown",
   "id": "1d3c081f-6083-4d2f-b995-1a7d334bd5e5",
   "metadata": {
    "tags": []
   },
   "source": [
    "## AVL tree without using 'self' (Better Code)"
   ]
  },
  {
   "cell_type": "code",
   "execution_count": 130,
   "id": "88f5c3ef-d8c5-496a-9d18-3893f40ed590",
   "metadata": {
    "tags": []
   },
   "outputs": [
    {
     "name": "stdout",
     "output_type": "stream",
     "text": [
      "3\n",
      "Displaying the tree:\n",
      "Vlaue of Node 0 and the Height 0\n",
      "Vlaue of Node 1 and the Height 1\n",
      "Vlaue of Node 2 and the Height 0\n",
      "Vlaue of Node 3 and the Height 3\n",
      "Vlaue of Node 4 and the Height 0\n",
      "Vlaue of Node 5 and the Height 1\n",
      "Vlaue of Node 6 and the Height 0\n",
      "Vlaue of Node 7 and the Height 2\n",
      "Vlaue of Node 8 and the Height 1\n",
      "Vlaue of Node 9 and the Height 0\n",
      "\n",
      "check if the tree is balanced or not\n",
      "True\n"
     ]
    }
   ],
   "source": [
    "class TreeNode:\n",
    "    def __init__(self, val):\n",
    "        self.val = val\n",
    "        self.left = None\n",
    "        self.right = None\n",
    "        self.height = 0\n",
    "class BinarySearchTree:\n",
    "    def __init__(self):\n",
    "        self.root = None\n",
    "    \n",
    "    def addel(self):\n",
    "        for num in range(10):\n",
    "            self.root = self.addelement(num, self.root)\n",
    "        print(self.height(self.root))\n",
    "\n",
    "    def addelement(self, val, node):\n",
    "        if node == None:\n",
    "            return  TreeNode(val)\n",
    "        if val < node.val:\n",
    "            node.left = self.addelement(val, node.left)\n",
    "              \n",
    "        else:\n",
    "            node.right = self.addelement(val, node.right)\n",
    "                \n",
    "        node.height = max(self.height(node.left), self.height(node.right)) + 1 \n",
    "        \n",
    "        return self.rotate(node, val)\n",
    "\n",
    "    \n",
    "    def height(self, node):\n",
    "        if node == None:\n",
    "            return -1\n",
    "        return node.height\n",
    "            \n",
    "    def display(self):\n",
    "        self.displaytree(self.root)\n",
    "        \n",
    "    def displaytree(self, node):\n",
    "        if node == None:\n",
    "            return\n",
    "        self.displaytree(node.left)\n",
    "        print(\"Vlaue of Node {}\".format(node.val), \"and the Height {}\".format(node.height))\n",
    "        self.displaytree(node.right)\n",
    "        \n",
    "    def balance(self):\n",
    "        return self.balanceTree(self.root)\n",
    "        \n",
    "    def balanceTree(self, node):\n",
    "        if node == None:\n",
    "            return True\n",
    "        if abs(self.height(node.left) - self.height(node.right)) <= 1:\n",
    "            return (self.balanceTree(node.left) and self.balanceTree(node.right))\n",
    "        else:\n",
    "            return False\n",
    "    \n",
    "    def rotate(self, node, val):\n",
    "        if (self.height(node.left) - self.height(node.right)) > 1:\n",
    "            if val < node.left.val:\n",
    "                return self.rightRotate(node)\n",
    "            if val > node.left.val:\n",
    "                node.left = self.leftRotate(node)\n",
    "                return self.rightRotate(node)\n",
    "        if (self.height(node.right) - self.height(node.left)) > 1:\n",
    "            if val > node.right.val:\n",
    "                return self.leftRotate(node)\n",
    "            if val < node.right.val:\n",
    "                node.right = self.rightRotate(node)\n",
    "                return self.leftRotate(node)\n",
    "            \n",
    "        return node\n",
    "    \n",
    "    def leftRotate(self, node):\n",
    "        c = node.right\n",
    "        t = c.left\n",
    "        \n",
    "        c.left = node\n",
    "        node.right = t\n",
    "\n",
    "        node.height = max(self.height(node.left), self.height(node.right)) + 1\n",
    "        c.height = max(self.height(c.left), self.height(c.right)) + 1\n",
    "        \n",
    "        return c\n",
    "    \n",
    "    def rightRotate(self, node):\n",
    "        c = node.left\n",
    "        t = c.right\n",
    "        \n",
    "        c.right = node\n",
    "        node.left = t \n",
    "        \n",
    "        node.height = max(self.height(node.left), self.height(node.right)) + 1\n",
    "        c.height = max(self.height(c.left), self.height(c.right)) + 1\n",
    "        \n",
    "        return c\n",
    "        \n",
    "if __name__ == \"__main__\":\n",
    "    tree = BinarySearchTree()\n",
    "    tree.addel()\n",
    "\n",
    "    print(\"Displaying the tree:\")\n",
    "    tree.display()\n",
    "    \n",
    "    print(\"\\ncheck if the tree is balanced or not\")\n",
    "    print(tree.balance())"
   ]
  },
  {
   "cell_type": "markdown",
   "id": "1e5609c1-7ff1-47aa-bc47-2b2bbc20d587",
   "metadata": {
    "tags": []
   },
   "source": [
    "## AVL tree with 'self' (Best code)"
   ]
  },
  {
   "cell_type": "code",
   "execution_count": 136,
   "id": "e9eab359-4458-4ed5-ac68-a15f70675171",
   "metadata": {
    "tags": []
   },
   "outputs": [
    {
     "name": "stdout",
     "output_type": "stream",
     "text": [
      "Displaying the tree:\n",
      "Vlaue of Node 4 and the Height 2\n",
      "Vlaue of Node 2 and the Height 1\n",
      "Vlaue of Node 1 and the Height 0\n",
      "Vlaue of Node 3 and the Height 0\n",
      "Vlaue of Node 6 and the Height 1\n",
      "Vlaue of Node 5 and the Height 0\n",
      "Vlaue of Node 7 and the Height 0\n",
      "\n",
      "check if the tree is balanced or not\n",
      "True\n"
     ]
    }
   ],
   "source": [
    "class BinarySearchTree:   \n",
    "    def __init__(self, val):\n",
    "        self.val = val\n",
    "        self.left = None\n",
    "        self.right = None\n",
    "        self.height = 0\n",
    "        \n",
    "    def addelement(self, val):\n",
    "        if val < self.val:\n",
    "            if self.left == None:\n",
    "                self.left = BinarySearchTree(val)\n",
    "            else:\n",
    "                self.left = self.left.addelement(val)\n",
    "        else:\n",
    "            if self.right == None:\n",
    "                self.right = BinarySearchTree(val)\n",
    "            else:\n",
    "                self.right = self.right.addelement(val)\n",
    "                \n",
    "        self.height = max(self.left.height if self.left else -1, self.right.height if self.right else -1) + 1\n",
    "        \n",
    "        return self.rotate(val)\n",
    "    \n",
    "    def heightTree(self):\n",
    "        return self.height\n",
    "        \n",
    "    def display(self):\n",
    "        print(\"Vlaue of Node {}\".format(self.val), \"and the Height {}\".format(self.height))\n",
    "        if self.left:\n",
    "            self.left.display()\n",
    "        if self.right:\n",
    "            self.right.display()\n",
    "        \n",
    "    def balancedTree(self):\n",
    "        if abs((self.left.heightTree() if self.left else -1) - (self.right.heightTree() if self.right else -1)) <=1:\n",
    "            return (self.left.balancedTree() if self.left else True) and (self.right.balancedTree() if self.right else True)\n",
    "        else:\n",
    "            return False\n",
    "        \n",
    "    def rotate(self, val):\n",
    "        \n",
    "        # For left unbalanced tree\n",
    "        if ((self.left.height if self.left else -1) - (self.right.height if self.right else -1)) > 1:\n",
    "            if val < self.left.val :\n",
    "                return self.rightRotate()\n",
    "                \n",
    "            elif val > self.left.val:\n",
    "                self.right = self.right.leftRotate()\n",
    "                return self.rightRotate()\n",
    "                \n",
    "        # For right unbalanced tree\n",
    "        if ((self.right.height if self.right else -1) - (self.left.height if self.left else -1)) >1:\n",
    "            if val > self.right.val:\n",
    "                return self.leftRotate()\n",
    "            \n",
    "            elif val < self.right.val:\n",
    "                self.left = self.left.rightRotate()\n",
    "                return self.leftRotate()\n",
    "            \n",
    "        return self\n",
    "                \n",
    "    def leftRotate(self):\n",
    "        \n",
    "        # Assigning right of 'p' as 'c' and left of c as 't' and 'self' is understood as 'p'\n",
    "        c = self.right\n",
    "        t = c.left\n",
    "        \n",
    "        c.left = self\n",
    "        self.right = t \n",
    "        \n",
    "        self.height = max((self.left.height if self.left else -1), (self.right.height if self.right else -1)) + 1\n",
    "        c.height = max((c.left.height if c.left else -1), (c.right.height if c.right else -1)) + 1\n",
    "        \n",
    "        return c\n",
    "        \n",
    "    def rightRotate(self):\n",
    "        \n",
    "        # Assigning left of 'p' as 'c' and right of c as 't' and 'self' is understood as 'p'\n",
    "        c = self.left\n",
    "        t = c.right\n",
    "        \n",
    "        c.right = self\n",
    "        self.left = t\n",
    "        \n",
    "        self.height = max((self.left.height if self.left else -1), (self.right.height if self.right else -1)) + 1\n",
    "        c.height = max((c.left.height if c.left else -1), (c.right.height if c.right else -1)) + 1\n",
    "        \n",
    "        return c\n",
    "        \n",
    "        \n",
    "if __name__ == \"__main__\":\n",
    "    tree = BinarySearchTree(1)\n",
    "    nums = [2, 3, 4, 5, 6, 7]\n",
    "    for num in nums:\n",
    "        tree = tree.addelement(num)\n",
    "\n",
    "    print(\"Displaying the tree:\")\n",
    "    tree.display()\n",
    "    \n",
    "    print(\"\\ncheck if the tree is balanced or not\")\n",
    "    print(tree.balancedTree())"
   ]
  },
  {
   "cell_type": "code",
   "execution_count": null,
   "id": "fdce5a89-67b2-4cd6-b779-9191ed2535df",
   "metadata": {},
   "outputs": [],
   "source": []
  }
 ],
 "metadata": {
  "kernelspec": {
   "display_name": "Python 3 (ipykernel)",
   "language": "python",
   "name": "python3"
  },
  "language_info": {
   "codemirror_mode": {
    "name": "ipython",
    "version": 3
   },
   "file_extension": ".py",
   "mimetype": "text/x-python",
   "name": "python",
   "nbconvert_exporter": "python",
   "pygments_lexer": "ipython3",
   "version": "3.11.5"
  },
  "toc-autonumbering": false,
  "toc-showcode": false,
  "toc-showmarkdowntxt": false
 },
 "nbformat": 4,
 "nbformat_minor": 5
}
