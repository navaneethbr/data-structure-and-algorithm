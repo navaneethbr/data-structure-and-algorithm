{
 "cells": [
  {
   "cell_type": "code",
   "execution_count": 1,
   "id": "3a4ac9c8-6e34-45ca-8c23-1dc62fde078f",
   "metadata": {},
   "outputs": [],
   "source": [
    "import numpy as np"
   ]
  },
  {
   "cell_type": "code",
   "execution_count": 17,
   "id": "4c7331ec-1626-4c66-9a45-fef1dda30aee",
   "metadata": {},
   "outputs": [],
   "source": [
    "a=np.array([[1,2],[2,3],[2,3]])"
   ]
  },
  {
   "cell_type": "code",
   "execution_count": 18,
   "id": "cddd8f5b-5516-41c3-afa2-f323fb6996e3",
   "metadata": {},
   "outputs": [
    {
     "data": {
      "text/plain": [
       "(3, 2)"
      ]
     },
     "execution_count": 18,
     "metadata": {},
     "output_type": "execute_result"
    }
   ],
   "source": [
    "a.shape"
   ]
  },
  {
   "cell_type": "code",
   "execution_count": 19,
   "id": "47f2b008-ddbb-494d-969b-fbff1fc065ee",
   "metadata": {},
   "outputs": [
    {
     "name": "stdout",
     "output_type": "stream",
     "text": [
      "[[1 2]\n",
      " [2 3]\n",
      " [2 3]]\n"
     ]
    }
   ],
   "source": [
    "print(a)"
   ]
  },
  {
   "cell_type": "code",
   "execution_count": 48,
   "id": "9a8288ef-a23c-4a62-938c-f73403210e1d",
   "metadata": {},
   "outputs": [],
   "source": [
    "b=np.array([[1,2,3,4],[1,2,3,2]])"
   ]
  },
  {
   "cell_type": "code",
   "execution_count": 49,
   "id": "84c6ad3d-4b2d-43a5-90fa-9965bc15c6ca",
   "metadata": {},
   "outputs": [
    {
     "data": {
      "text/plain": [
       "array([[2, 3],\n",
       "       [2, 3]])"
      ]
     },
     "execution_count": 49,
     "metadata": {},
     "output_type": "execute_result"
    }
   ],
   "source": [
    "b[:2,1:3]"
   ]
  },
  {
   "cell_type": "code",
   "execution_count": 44,
   "id": "bdf953ba-17eb-4384-87cd-40d53d49f967",
   "metadata": {},
   "outputs": [
    {
     "data": {
      "text/plain": [
       "[]"
      ]
     },
     "execution_count": 44,
     "metadata": {},
     "output_type": "execute_result"
    }
   ],
   "source": [
    "b[1:1]"
   ]
  },
  {
   "cell_type": "code",
   "execution_count": 1,
   "id": "4870f952-a0b4-44fd-ae00-31c652674688",
   "metadata": {},
   "outputs": [
    {
     "name": "stdout",
     "output_type": "stream",
     "text": [
      "this is abc function\n",
      "this is a xyz function\n"
     ]
    }
   ],
   "source": [
    "def abc(function):\n",
    "    print(\"this is abc function\")\n",
    "    function()\n",
    "    \n",
    "@abc\n",
    "def xyz():\n",
    "    print(\"this is a xyz function\")"
   ]
  },
  {
   "cell_type": "code",
   "execution_count": 40,
   "id": "be28ce89-6a0a-4155-8fdc-208232811049",
   "metadata": {},
   "outputs": [],
   "source": [
    "s =\"the sky is blue\""
   ]
  },
  {
   "cell_type": "code",
   "execution_count": 41,
   "id": "c79ac14f-c5a9-4d79-bd92-f71ad90df842",
   "metadata": {},
   "outputs": [
    {
     "name": "stdout",
     "output_type": "stream",
     "text": [
      "eulb si yks eht\n",
      "e\n",
      "u\n",
      "l\n",
      "b\n",
      "blue \n",
      "s\n",
      "i\n",
      "blue is \n",
      "y\n",
      "k\n",
      "s\n",
      "blue is sky \n",
      "e\n",
      "h\n",
      "t\n"
     ]
    }
   ],
   "source": [
    "i,j=0,len(s)-1\n",
    "# s=s[::-1]\n",
    "s=s[::-1]\n",
    "print(s)\n",
    "w=\"\"\n",
    "ans=\"\"\n",
    "for i in range(len(s)):\n",
    "    if s[i]!=\" \":\n",
    "        print(s[i])\n",
    "        w+=s[i]\n",
    "    else:\n",
    "        ans=ans+w[::-1]+\" \"\n",
    "        print(ans)\n",
    "        w=\"\""
   ]
  },
  {
   "cell_type": "code",
   "execution_count": 44,
   "id": "3baccf17-3f38-492f-9fe9-16f6c99585cd",
   "metadata": {},
   "outputs": [
    {
     "data": {
      "text/plain": [
       "'blue is sky the'"
      ]
     },
     "execution_count": 44,
     "metadata": {},
     "output_type": "execute_result"
    }
   ],
   "source": [
    "ans+w[::-1]"
   ]
  },
  {
   "cell_type": "code",
   "execution_count": 5,
   "id": "965dc468-cf25-4744-ac7c-1fe6389e149d",
   "metadata": {},
   "outputs": [
    {
     "name": "stdout",
     "output_type": "stream",
     "text": [
      "4\n"
     ]
    }
   ],
   "source": [
    "s=\"()))((\"\n",
    "count=0\n",
    "i=0\n",
    "while i < len(s):\n",
    "#     print(i)\n",
    "    if s[i]==\"(\":\n",
    "        if i+1<len(s):\n",
    "            if s[i+1]!=\")\":\n",
    "                count+=1\n",
    "                i+=1\n",
    "            else:\n",
    "                i+=2\n",
    "        else:\n",
    "            count+=1\n",
    "            i+=1\n",
    "    else:\n",
    "        count+=1\n",
    "        i+=1\n",
    "print(count)"
   ]
  },
  {
   "cell_type": "code",
   "execution_count": 29,
   "id": "11e41674-33ba-4639-b79c-b828d65b1002",
   "metadata": {},
   "outputs": [],
   "source": [
    "temp=[[0 for i in range(3)] for i in range(3)] "
   ]
  },
  {
   "cell_type": "code",
   "execution_count": 32,
   "id": "f0523561-67ba-4317-8199-1becdc289a59",
   "metadata": {},
   "outputs": [],
   "source": [
    "temp[0][1]=1"
   ]
  },
  {
   "cell_type": "code",
   "execution_count": 33,
   "id": "ce45dbd1-16cb-40b9-bf7d-5c8cf3c93dbc",
   "metadata": {},
   "outputs": [
    {
     "data": {
      "text/plain": [
       "[[0, 1, 0], [1, 0, 0], [0, 0, 0]]"
      ]
     },
     "execution_count": 33,
     "metadata": {},
     "output_type": "execute_result"
    }
   ],
   "source": [
    "temp"
   ]
  },
  {
   "cell_type": "code",
   "execution_count": 43,
   "id": "b097b5d8-c4eb-43d7-a5ef-366477c739a6",
   "metadata": {},
   "outputs": [],
   "source": [
    "nums=[1,1,3,5,5]"
   ]
  },
  {
   "cell_type": "code",
   "execution_count": 44,
   "id": "59f16b19-0955-454b-be61-58d9b9842f3a",
   "metadata": {},
   "outputs": [
    {
     "data": {
      "text/plain": [
       "[]"
      ]
     },
     "execution_count": 44,
     "metadata": {},
     "output_type": "execute_result"
    }
   ],
   "source": [
    "[n for n in (2, 2) if nums.count(n) > len(nums) // 3]"
   ]
  },
  {
   "cell_type": "code",
   "execution_count": 47,
   "id": "1ffe62f5-2ac4-42a9-aa57-3ce83d322ef0",
   "metadata": {},
   "outputs": [
    {
     "name": "stdout",
     "output_type": "stream",
     "text": [
      "2\n",
      "hi\n",
      "3\n",
      "hi\n"
     ]
    }
   ],
   "source": [
    "for n in (2,3):\n",
    "    print(n)\n",
    "    print(\"hi\")"
   ]
  },
  {
   "cell_type": "code",
   "execution_count": 6,
   "id": "1be64edf-2bd7-484f-bcc4-c8822f969425",
   "metadata": {},
   "outputs": [],
   "source": [
    "e=\"1221\""
   ]
  },
  {
   "cell_type": "code",
   "execution_count": 9,
   "id": "89f6404e-81e9-4968-bd86-69b95361271b",
   "metadata": {},
   "outputs": [
    {
     "data": {
      "text/plain": [
       "True"
      ]
     },
     "execution_count": 9,
     "metadata": {},
     "output_type": "execute_result"
    }
   ],
   "source": [
    "e.isdigit()"
   ]
  },
  {
   "cell_type": "code",
   "execution_count": 3,
   "id": "84f9e0c7-07d1-4337-bf17-211fb10ecee4",
   "metadata": {},
   "outputs": [
    {
     "data": {
      "text/plain": [
       "1221"
      ]
     },
     "execution_count": 3,
     "metadata": {},
     "output_type": "execute_result"
    }
   ],
   "source": [
    "t"
   ]
  },
  {
   "cell_type": "code",
   "execution_count": 2,
   "id": "3e8397b3-4267-4758-a5f6-7973b7df9f55",
   "metadata": {},
   "outputs": [
    {
     "name": "stdout",
     "output_type": "stream",
     "text": [
      "dajidas\n",
      "988\n",
      "ksajlkdn\n",
      "908\n",
      "l\n"
     ]
    }
   ],
   "source": [
    "s=\"dajidas988ksajlkdn908\"\n",
    "k=9000\n",
    "ans=''\n",
    "i=0\n",
    "while i<len(s):\n",
    "    temp=''\n",
    "    num=''\n",
    "    while i<len(s) and s[i].isalpha():\n",
    "        temp+=s[i]\n",
    "        i+=1\n",
    "    while i<len(s) and s[i].isdigit():\n",
    "        num+=s[i]\n",
    "        i+=1\n",
    "    if num=='':\n",
    "        ans+=temp\n",
    "    else:\n",
    "        print(temp)\n",
    "        print(num)\n",
    "        ans+=temp*int(num)\n",
    "print(ans[k])"
   ]
  },
  {
   "cell_type": "code",
   "execution_count": 1,
   "id": "39b2e01e-1645-4531-b22a-cce6ec8aaedc",
   "metadata": {},
   "outputs": [
    {
     "ename": "KeyboardInterrupt",
     "evalue": "",
     "output_type": "error",
     "traceback": [
      "\u001b[1;31m---------------------------------------------------------------------------\u001b[0m",
      "\u001b[1;31mKeyboardInterrupt\u001b[0m                         Traceback (most recent call last)",
      "\u001b[1;32m<ipython-input-1-b24c15583462>\u001b[0m in \u001b[0;36m<module>\u001b[1;34m\u001b[0m\n\u001b[0;32m     32\u001b[0m         \u001b[0mstr\u001b[0m \u001b[1;33m=\u001b[0m \u001b[1;34m\"dajidas988ksajlkdn908\"\u001b[0m\u001b[1;33m\u001b[0m\u001b[1;33m\u001b[0m\u001b[0m\n\u001b[0;32m     33\u001b[0m         \u001b[0mk\u001b[0m \u001b[1;33m=\u001b[0m \u001b[1;36m900\u001b[0m\u001b[1;33m\u001b[0m\u001b[1;33m\u001b[0m\u001b[0m\n\u001b[1;32m---> 34\u001b[1;33m         \u001b[0mprint\u001b[0m\u001b[1;33m(\u001b[0m\u001b[0mencodedChar\u001b[0m\u001b[1;33m(\u001b[0m\u001b[0mstr\u001b[0m\u001b[1;33m,\u001b[0m \u001b[0mk\u001b[0m\u001b[1;33m)\u001b[0m\u001b[1;33m)\u001b[0m\u001b[1;33m\u001b[0m\u001b[1;33m\u001b[0m\u001b[0m\n\u001b[0m\u001b[0;32m     35\u001b[0m \u001b[1;33m\u001b[0m\u001b[0m\n\u001b[0;32m     36\u001b[0m \u001b[1;31m# This code is contributed by\u001b[0m\u001b[1;33m\u001b[0m\u001b[1;33m\u001b[0m\u001b[1;33m\u001b[0m\u001b[0m\n",
      "\u001b[1;32m<ipython-input-1-b24c15583462>\u001b[0m in \u001b[0;36mencodedChar\u001b[1;34m(str, k)\u001b[0m\n\u001b[0;32m     10\u001b[0m                 \u001b[0mtemp\u001b[0m \u001b[1;33m=\u001b[0m \u001b[1;34m\"\"\u001b[0m \u001b[1;31m# Current substring\u001b[0m\u001b[1;33m\u001b[0m\u001b[1;33m\u001b[0m\u001b[0m\n\u001b[0;32m     11\u001b[0m                 \u001b[0mfreq\u001b[0m \u001b[1;33m=\u001b[0m \u001b[1;36m0\u001b[0m\u001b[1;33m\u001b[0m\u001b[1;33m\u001b[0m\u001b[0m\n\u001b[1;32m---> 12\u001b[1;33m \t\twhile (i < len(str) and\n\u001b[0m\u001b[0;32m     13\u001b[0m                         \u001b[0mord\u001b[0m\u001b[1;33m(\u001b[0m\u001b[0mstr\u001b[0m\u001b[1;33m[\u001b[0m\u001b[0mi\u001b[0m\u001b[1;33m]\u001b[0m\u001b[1;33m)\u001b[0m \u001b[1;33m>=\u001b[0m \u001b[0mord\u001b[0m\u001b[1;33m(\u001b[0m\u001b[1;34m'a'\u001b[0m\u001b[1;33m)\u001b[0m \u001b[1;32mand\u001b[0m\u001b[1;33m\u001b[0m\u001b[1;33m\u001b[0m\u001b[0m\n\u001b[0;32m     14\u001b[0m \t\t\tord(str[i]) <= ord('z')):\n",
      "\u001b[1;31mKeyboardInterrupt\u001b[0m: "
     ]
    }
   ],
   "source": [
    "# Python 3 program to find K'th character\n",
    "# in decrypted string\n",
    "\n",
    "# Function to find K'th character\n",
    "# in Encoded String\n",
    "def encodedChar(str, k):\n",
    "\texpand = \"\"\n",
    "\ti = 0\n",
    "\twhile(i < len(str)):\n",
    "\t\ttemp = \"\" # Current substring\n",
    "\t\tfreq = 0\n",
    "\t\twhile (i < len(str) and\n",
    "\t\t\tord(str[i]) >= ord('a') and\n",
    "\t\t\tord(str[i]) <= ord('z')):\n",
    "\t\t\ttemp += str[i]\n",
    "\t\t\ti += 1\n",
    "\t\twhile (i < len(str) and\n",
    "\t\t\tord(str[i]) >= ord('1') and\n",
    "\t\t\tord(str[i]) <= ord('9')):\n",
    "\t\t\t# generating frequency of temp\n",
    "\t\t\tfreq = freq * 10 + ord(str[i]) - ord('0')\n",
    "\t\t\ti += 1\n",
    "\t\tfor j in range(1, freq + 1, 1):\n",
    "\t\t\texpand += temp\n",
    "\tif (freq == 0):\n",
    "\t\texpand += temp\n",
    "\n",
    "\treturn expand[k - 1]\n",
    "\n",
    "# Driver Code\n",
    "if __name__ == '__main__':\n",
    "\tstr = \"dajidas988ksajlkdn908\"\n",
    "\tk = 900\n",
    "\tprint(encodedChar(str, k))\n",
    "\n",
    "# This code is contributed by\n",
    "# Shashank_Sharma\n"
   ]
  },
  {
   "cell_type": "code",
   "execution_count": 1,
   "id": "8c7d9978-517e-4b6e-ad56-d808d086de68",
   "metadata": {},
   "outputs": [
    {
     "name": "stdout",
     "output_type": "stream",
     "text": [
      "Enter the root Node: \n"
     ]
    },
    {
     "name": "stdin",
     "output_type": "stream",
     "text": [
      " 2\n"
     ]
    },
    {
     "name": "stdout",
     "output_type": "stream",
     "text": [
      "Do you want to enter left of 2 (True/False): \n"
     ]
    },
    {
     "name": "stdin",
     "output_type": "stream",
     "text": [
      " True\n"
     ]
    },
    {
     "name": "stdout",
     "output_type": "stream",
     "text": [
      "Enter the value of the left of 2: \n"
     ]
    },
    {
     "name": "stdin",
     "output_type": "stream",
     "text": [
      " 3\n"
     ]
    },
    {
     "name": "stdout",
     "output_type": "stream",
     "text": [
      "Do you want to enter left of 3 (True/False): \n"
     ]
    },
    {
     "name": "stdin",
     "output_type": "stream",
     "text": [
      " False\n"
     ]
    },
    {
     "name": "stdout",
     "output_type": "stream",
     "text": [
      "Do you want to enter right of 3 (True/False): \n"
     ]
    },
    {
     "name": "stdin",
     "output_type": "stream",
     "text": [
      " False\n"
     ]
    },
    {
     "name": "stdout",
     "output_type": "stream",
     "text": [
      "Do you want to enter right of 2 (True/False): \n"
     ]
    },
    {
     "name": "stdin",
     "output_type": "stream",
     "text": [
      " False\n"
     ]
    },
    {
     "name": "stdout",
     "output_type": "stream",
     "text": [
      "Displaying the tree:\n",
      "2\n",
      "\t3\n",
      "Pretty display of the tree:\n",
      "2\n",
      "|------->3\n",
      "Pre-order traversal:\n",
      "2 3 \n",
      "In-order traversal:\n",
      "3 2 \n",
      "Post-order traversal:\n",
      "3 2 \n"
     ]
    }
   ],
   "source": [
    "class BinaryTree:\n",
    "    class Node:\n",
    "        def __init__(self, value):\n",
    "            self.value = value\n",
    "            self.left = None\n",
    "            self.right = None\n",
    "\n",
    "    def __init__(self):\n",
    "        self.root = None\n",
    "\n",
    "    def populate(self):\n",
    "        print(\"Enter the root Node: \")\n",
    "        value = int(input())\n",
    "        self.root = self.Node(value)\n",
    "        self._populate(self.root)\n",
    "\n",
    "    def _populate(self, node):\n",
    "        print(f\"Do you want to enter left of {node.value} (True/False): \")\n",
    "        left = input().lower() == 'true'\n",
    "        if left:\n",
    "            print(f\"Enter the value of the left of {node.value}: \")\n",
    "            value = int(input())\n",
    "            node.left = self.Node(value)\n",
    "            self._populate(node.left)\n",
    "\n",
    "        print(f\"Do you want to enter right of {node.value} (True/False): \")\n",
    "        right = input().lower() == 'true'\n",
    "        if right:\n",
    "            print(f\"Enter the value of the right of {node.value}: \")\n",
    "            value = int(input())\n",
    "            node.right = self.Node(value)\n",
    "            self._populate(node.right)\n",
    "\n",
    "    def display(self):\n",
    "        self._display(self.root, \"\")\n",
    "\n",
    "    def _display(self, node, indent):\n",
    "        if node is None:\n",
    "            return\n",
    "        print(indent + str(node.value))\n",
    "        self._display(node.left, indent + \"\\t\")\n",
    "        self._display(node.right, indent + \"\\t\")\n",
    "\n",
    "    def prettyDisplay(self):\n",
    "        self._prettyDisplay(self.root, 0)\n",
    "\n",
    "    def _prettyDisplay(self, node, level):\n",
    "        if node is None:\n",
    "            return\n",
    "\n",
    "        self._prettyDisplay(node.right, level + 1)\n",
    "\n",
    "        if level != 0:\n",
    "            for i in range(level - 1):\n",
    "                print(\"|\" + \"\\t\\t\", end=\"\")\n",
    "            print(\"|------->\" + str(node.value))\n",
    "        else:\n",
    "            print(node.value)\n",
    "\n",
    "        self._prettyDisplay(node.left, level + 1)\n",
    "\n",
    "    def preOrder(self):\n",
    "        self._preOrder(self.root)\n",
    "        print()\n",
    "\n",
    "    def _preOrder(self, node):\n",
    "        if node is None:\n",
    "            return\n",
    "        print(node.value, end=\" \")\n",
    "        self._preOrder(node.left)\n",
    "        self._preOrder(node.right)\n",
    "\n",
    "    def inOrder(self):\n",
    "        self._inOrder(self.root)\n",
    "        print()\n",
    "\n",
    "    def _inOrder(self, node):\n",
    "        if node is None:\n",
    "            return\n",
    "        self._inOrder(node.left)\n",
    "        print(node.value, end=\" \")\n",
    "        self._inOrder(node.right)\n",
    "\n",
    "    def postOrder(self):\n",
    "        self._postOrder(self.root)\n",
    "        print()\n",
    "\n",
    "    def _postOrder(self, node):\n",
    "        if node is None:\n",
    "            return\n",
    "        self._postOrder(node.left)\n",
    "        self._postOrder(node.right)\n",
    "        print(node.value, end=\" \")\n",
    "\n",
    "\n",
    "# Usage example:\n",
    "if __name__ == \"__main__\":\n",
    "    tree = BinaryTree()\n",
    "    tree.populate()\n",
    "    print(\"Displaying the tree:\")\n",
    "    tree.display()\n",
    "    print(\"Pretty display of the tree:\")\n",
    "    tree.prettyDisplay()\n",
    "    print(\"Pre-order traversal:\")\n",
    "    tree.preOrder()\n",
    "    print(\"In-order traversal:\")\n",
    "    tree.inOrder()\n",
    "    print(\"Post-order traversal:\")\n",
    "    tree.postOrder()\n"
   ]
  },
  {
   "cell_type": "code",
   "execution_count": 37,
   "id": "6271700c-a13e-4345-adbb-a069d7049433",
   "metadata": {},
   "outputs": [
    {
     "name": "stdout",
     "output_type": "stream",
     "text": [
      "Enter the root node val\n"
     ]
    },
    {
     "name": "stdin",
     "output_type": "stream",
     "text": [
      "None 5\n"
     ]
    },
    {
     "name": "stdout",
     "output_type": "stream",
     "text": [
      "do want to enter the left side of 5, Enter True or False\n"
     ]
    },
    {
     "name": "stdin",
     "output_type": "stream",
     "text": [
      " true\n"
     ]
    },
    {
     "name": "stdout",
     "output_type": "stream",
     "text": [
      "Enter the value to be inserted\n"
     ]
    },
    {
     "name": "stdin",
     "output_type": "stream",
     "text": [
      "None 4\n"
     ]
    },
    {
     "name": "stdout",
     "output_type": "stream",
     "text": [
      "do want to enter the left side of 4, Enter True or False\n"
     ]
    },
    {
     "name": "stdin",
     "output_type": "stream",
     "text": [
      " true\n"
     ]
    },
    {
     "name": "stdout",
     "output_type": "stream",
     "text": [
      "Enter the value to be inserted\n"
     ]
    },
    {
     "name": "stdin",
     "output_type": "stream",
     "text": [
      "None 3\n"
     ]
    },
    {
     "name": "stdout",
     "output_type": "stream",
     "text": [
      "do want to enter the left side of 3, Enter True or False\n"
     ]
    },
    {
     "name": "stdin",
     "output_type": "stream",
     "text": [
      " f\n"
     ]
    },
    {
     "name": "stdout",
     "output_type": "stream",
     "text": [
      "do want to enter the right side of 3, Enter True or False\n"
     ]
    },
    {
     "name": "stdin",
     "output_type": "stream",
     "text": [
      " f\n"
     ]
    },
    {
     "name": "stdout",
     "output_type": "stream",
     "text": [
      "do want to enter the right side of 4, Enter True or False\n"
     ]
    },
    {
     "name": "stdin",
     "output_type": "stream",
     "text": [
      " true\n"
     ]
    },
    {
     "name": "stdout",
     "output_type": "stream",
     "text": [
      "Enter the value to be inserted\n"
     ]
    },
    {
     "name": "stdin",
     "output_type": "stream",
     "text": [
      "None 2\n"
     ]
    },
    {
     "name": "stdout",
     "output_type": "stream",
     "text": [
      "do want to enter the left side of 2, Enter True or False\n"
     ]
    },
    {
     "name": "stdin",
     "output_type": "stream",
     "text": [
      " f\n"
     ]
    },
    {
     "name": "stdout",
     "output_type": "stream",
     "text": [
      "do want to enter the right side of 2, Enter True or False\n"
     ]
    },
    {
     "name": "stdin",
     "output_type": "stream",
     "text": [
      " f\n"
     ]
    },
    {
     "name": "stdout",
     "output_type": "stream",
     "text": [
      "do want to enter the right side of 5, Enter True or False\n"
     ]
    },
    {
     "name": "stdin",
     "output_type": "stream",
     "text": [
      " true\n"
     ]
    },
    {
     "name": "stdout",
     "output_type": "stream",
     "text": [
      "Enter the value to be inserted\n"
     ]
    },
    {
     "name": "stdin",
     "output_type": "stream",
     "text": [
      "None 6\n"
     ]
    },
    {
     "name": "stdout",
     "output_type": "stream",
     "text": [
      "do want to enter the left side of 6, Enter True or False\n"
     ]
    },
    {
     "name": "stdin",
     "output_type": "stream",
     "text": [
      " true\n"
     ]
    },
    {
     "name": "stdout",
     "output_type": "stream",
     "text": [
      "Enter the value to be inserted\n"
     ]
    },
    {
     "name": "stdin",
     "output_type": "stream",
     "text": [
      "None 8\n"
     ]
    },
    {
     "name": "stdout",
     "output_type": "stream",
     "text": [
      "do want to enter the left side of 8, Enter True or False\n"
     ]
    },
    {
     "name": "stdin",
     "output_type": "stream",
     "text": [
      " f\n"
     ]
    },
    {
     "name": "stdout",
     "output_type": "stream",
     "text": [
      "do want to enter the right side of 8, Enter True or False\n"
     ]
    },
    {
     "name": "stdin",
     "output_type": "stream",
     "text": [
      " f\n"
     ]
    },
    {
     "name": "stdout",
     "output_type": "stream",
     "text": [
      "do want to enter the right side of 6, Enter True or False\n"
     ]
    },
    {
     "name": "stdin",
     "output_type": "stream",
     "text": [
      " true\n"
     ]
    },
    {
     "name": "stdout",
     "output_type": "stream",
     "text": [
      "Enter the value to be inserted\n"
     ]
    },
    {
     "name": "stdin",
     "output_type": "stream",
     "text": [
      "None 1\n"
     ]
    },
    {
     "name": "stdout",
     "output_type": "stream",
     "text": [
      "do want to enter the left side of 1, Enter True or False\n"
     ]
    },
    {
     "name": "stdin",
     "output_type": "stream",
     "text": [
      " f\n"
     ]
    },
    {
     "name": "stdout",
     "output_type": "stream",
     "text": [
      "do want to enter the right side of 1, Enter True or False\n"
     ]
    },
    {
     "name": "stdin",
     "output_type": "stream",
     "text": [
      " f\n"
     ]
    }
   ],
   "source": [
    "class Node:\n",
    "    def __init__(self, val):\n",
    "        self.val = val\n",
    "        self.left = None\n",
    "        self.right = None\n",
    "        \n",
    "class BinaryTree:\n",
    "    def __init__(self):\n",
    "        self.root = None\n",
    "        \n",
    "    def adds(self):\n",
    "        value = int(input(print(\"Enter the root node val\")))\n",
    "        self.root = Node(value)\n",
    "        self.addelements(self.root)\n",
    "        \n",
    "    def printN(self):\n",
    "        self.printNode(self.root)\n",
    "        \n",
    "    def addelements(self, node): \n",
    "        print(\"do want to enter the left side of {}, Enter True or False\".format(node.val))\n",
    "        Left = input().lower() == 'true'\n",
    "        if Left:\n",
    "            val = input(print(\"Enter the value to be inserted\"))\n",
    "            node.left = Node(val)\n",
    "            self.addelements(node.left)\n",
    "            \n",
    "        print(\"do want to enter the right side of {}, Enter True or False\".format(node.val))\n",
    "        Right = input().lower() == 'true'\n",
    "        if Right:\n",
    "            val = input(print(\"Enter the value to be inserted\"))\n",
    "            node.right = Node(val)\n",
    "            self.addelements(node.right)\n",
    "           \n",
    "        # return self.root\n",
    "\n",
    "    def printNode(self, node):\n",
    "        if node == None:\n",
    "            return\n",
    "        print(node.val)\n",
    "        self.printNode(node.left)\n",
    "        self.printNode(node.right)\n",
    "        \n",
    "if __name__==\"__main__\":\n",
    "    ans = BinaryTree(5)\n",
    "    ans.adds()\n",
    "    \n",
    "            \n",
    "                    \n"
   ]
  },
  {
   "cell_type": "code",
   "execution_count": 38,
   "id": "fb67178b-6ede-44b1-b4df-5c5d86644625",
   "metadata": {},
   "outputs": [
    {
     "name": "stdout",
     "output_type": "stream",
     "text": [
      "5\n",
      "4\n",
      "3\n",
      "2\n",
      "6\n",
      "8\n",
      "1\n"
     ]
    }
   ],
   "source": [
    "ans.printN()"
   ]
  },
  {
   "cell_type": "code",
   "execution_count": 21,
   "id": "9c176952-0125-4487-b068-ad1ca4a4b660",
   "metadata": {},
   "outputs": [
    {
     "name": "stdout",
     "output_type": "stream",
     "text": [
      "Enter the first value to be entred\n"
     ]
    },
    {
     "name": "stdin",
     "output_type": "stream",
     "text": [
      "None 15\n"
     ]
    },
    {
     "name": "stdout",
     "output_type": "stream",
     "text": [
      "Enter True if you want to continue else False\n"
     ]
    },
    {
     "name": "stdin",
     "output_type": "stream",
     "text": [
      " true\n"
     ]
    },
    {
     "name": "stdout",
     "output_type": "stream",
     "text": [
      "Enter the valur to be inserted in BST\n"
     ]
    },
    {
     "name": "stdin",
     "output_type": "stream",
     "text": [
      "None 10\n"
     ]
    },
    {
     "name": "stdout",
     "output_type": "stream",
     "text": [
      "Enter True if you want to continue else False\n"
     ]
    },
    {
     "name": "stdin",
     "output_type": "stream",
     "text": [
      " true\n"
     ]
    },
    {
     "name": "stdout",
     "output_type": "stream",
     "text": [
      "Enter the valur to be inserted in BST\n"
     ]
    },
    {
     "name": "stdin",
     "output_type": "stream",
     "text": [
      "None 9\n"
     ]
    },
    {
     "name": "stdout",
     "output_type": "stream",
     "text": [
      "Enter True if you want to continue else False\n"
     ]
    },
    {
     "name": "stdin",
     "output_type": "stream",
     "text": [
      " true\n"
     ]
    },
    {
     "name": "stdout",
     "output_type": "stream",
     "text": [
      "Enter the valur to be inserted in BST\n"
     ]
    },
    {
     "name": "stdin",
     "output_type": "stream",
     "text": [
      "None 11\n"
     ]
    },
    {
     "name": "stdout",
     "output_type": "stream",
     "text": [
      "Enter True if you want to continue else False\n"
     ]
    },
    {
     "name": "stdin",
     "output_type": "stream",
     "text": [
      " true\n"
     ]
    },
    {
     "name": "stdout",
     "output_type": "stream",
     "text": [
      "Enter the valur to be inserted in BST\n"
     ]
    },
    {
     "name": "stdin",
     "output_type": "stream",
     "text": [
      "None 16\n"
     ]
    },
    {
     "name": "stdout",
     "output_type": "stream",
     "text": [
      "Enter True if you want to continue else False\n"
     ]
    },
    {
     "name": "stdin",
     "output_type": "stream",
     "text": [
      " true\n"
     ]
    },
    {
     "name": "stdout",
     "output_type": "stream",
     "text": [
      "Enter the valur to be inserted in BST\n"
     ]
    },
    {
     "name": "stdin",
     "output_type": "stream",
     "text": [
      "None 15\n"
     ]
    },
    {
     "name": "stdout",
     "output_type": "stream",
     "text": [
      "Enter True if you want to continue else False\n"
     ]
    },
    {
     "name": "stdin",
     "output_type": "stream",
     "text": [
      " false\n"
     ]
    },
    {
     "name": "stdout",
     "output_type": "stream",
     "text": [
      "15\n",
      "10\n",
      "9\n",
      "11\n",
      "16\n",
      "15\n"
     ]
    }
   ],
   "source": [
    "class Node:\n",
    "    def __init__(self, val):\n",
    "        self.val = val\n",
    "        self.left = None\n",
    "        self.right = None\n",
    "class BinarySearchTree:\n",
    "    def __init__(self):\n",
    "        self.root = None\n",
    "    \n",
    "    def addVal(self, value):\n",
    "        if self.root == None:\n",
    "            self.root = Node(value)\n",
    "        else:\n",
    "            n = self.root\n",
    "            while True:\n",
    "                if value < n.val:\n",
    "                    if n.left == None:\n",
    "                        n.left = Node(value)\n",
    "                        break\n",
    "                    n = n.left\n",
    "                else:\n",
    "                    if n.right == None:\n",
    "                        n.right = Node(value)\n",
    "                        break\n",
    "                    n = n.right\n",
    "        print(\"Enter True if you want to continue else False\")\n",
    "        ans = input().lower() == 'true'\n",
    "        if not ans:\n",
    "            return self.root\n",
    "        val = int(input(print(\"Enter the valur to be inserted in BST\")))\n",
    "        return self.addVal(val)\n",
    "    def printNode(self, root):\n",
    "        if root == None:\n",
    "            return\n",
    "        print(root.val)\n",
    "        self.printNode(root.left)\n",
    "        self.printNode(root.right)\n",
    "if __name__ == '__main__':\n",
    "    val = int(input(print(\"Enter the first value to be entred\")))\n",
    "    node = BinarySearchTree()\n",
    "    root = node.addVal(val)\n",
    "    node.printNode(root)"
   ]
  },
  {
   "cell_type": "code",
   "execution_count": 34,
   "id": "41767e2f-468d-4704-ae5d-139700a7cf61",
   "metadata": {},
   "outputs": [
    {
     "name": "stdout",
     "output_type": "stream",
     "text": [
      "Enter true if you want to add element else false\n"
     ]
    },
    {
     "name": "stdin",
     "output_type": "stream",
     "text": [
      " true\n"
     ]
    },
    {
     "name": "stdout",
     "output_type": "stream",
     "text": [
      "Enter the number to be inserted\n"
     ]
    },
    {
     "name": "stdin",
     "output_type": "stream",
     "text": [
      " 10\n"
     ]
    },
    {
     "name": "stdout",
     "output_type": "stream",
     "text": [
      "Enter true if you want to add element else false\n"
     ]
    },
    {
     "name": "stdin",
     "output_type": "stream",
     "text": [
      " true\n"
     ]
    },
    {
     "name": "stdout",
     "output_type": "stream",
     "text": [
      "Enter the number to be inserted\n"
     ]
    },
    {
     "name": "stdin",
     "output_type": "stream",
     "text": [
      " 12\n"
     ]
    },
    {
     "name": "stdout",
     "output_type": "stream",
     "text": [
      "Enter true if you want to add element else false\n"
     ]
    },
    {
     "name": "stdin",
     "output_type": "stream",
     "text": [
      " fals\n"
     ]
    }
   ],
   "source": [
    "class Node:\n",
    "    def __init__(self, value):\n",
    "        self.value = value\n",
    "        self.right = None\n",
    "        self.left = None\n",
    "class BST(Node):\n",
    "        \n",
    "    def addelement(self, value):\n",
    "        if value < self.value:\n",
    "            if self.left == None:\n",
    "                self.left = Node(value)\n",
    "            else:\n",
    "                self.left.addelement(value)\n",
    "        else:\n",
    "            if self.right == None:\n",
    "                self.right = Node(value)\n",
    "            else:\n",
    "                self.right.addelement(value)\n",
    "                \n",
    "if __name__ == '__main__':\n",
    "    tree = BST(11)\n",
    "    while True:\n",
    "        print(\"Enter true if you want to add element else false\")\n",
    "        ans = input().lower() == 'true'\n",
    "        if ans:\n",
    "            print('Enter the number to be inserted')\n",
    "            val = int(input())\n",
    "            tree.addelement(val)\n",
    "        else:\n",
    "            break"
   ]
  },
  {
   "cell_type": "code",
   "execution_count": 36,
   "id": "ace2e861-6ee6-40a6-b302-de4b95ded718",
   "metadata": {},
   "outputs": [
    {
     "name": "stdout",
     "output_type": "stream",
     "text": [
      "11\n",
      "10\n",
      "12\n"
     ]
    }
   ],
   "source": [
    "print(tree.value)\n",
    "print(tree.left.value)\n",
    "print(tree.right.value)"
   ]
  },
  {
   "cell_type": "code",
   "execution_count": null,
   "id": "24de436d-b4f8-477c-8e18-f026e275efe0",
   "metadata": {},
   "outputs": [],
   "source": []
  }
 ],
 "metadata": {
  "kernelspec": {
   "display_name": "Python 3 (ipykernel)",
   "language": "python",
   "name": "python3"
  },
  "language_info": {
   "codemirror_mode": {
    "name": "ipython",
    "version": 3
   },
   "file_extension": ".py",
   "mimetype": "text/x-python",
   "name": "python",
   "nbconvert_exporter": "python",
   "pygments_lexer": "ipython3",
   "version": "3.11.5"
  }
 },
 "nbformat": 4,
 "nbformat_minor": 5
}
