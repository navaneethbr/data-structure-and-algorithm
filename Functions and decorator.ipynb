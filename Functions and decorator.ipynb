{
 "cells": [
  {
   "cell_type": "markdown",
   "id": "68e2d075-49d2-4f8e-b5d8-0080a8f29cf5",
   "metadata": {},
   "source": [
    "## Lambda function"
   ]
  },
  {
   "cell_type": "code",
   "execution_count": 17,
   "id": "c94d8e7f-d177-4c91-baa5-e7127e6602b8",
   "metadata": {},
   "outputs": [],
   "source": [
    "s = lambda x,y: x+y if y%5==0 else x-y"
   ]
  },
  {
   "cell_type": "markdown",
   "id": "545fc93c-3266-47ac-a147-d29186d8b150",
   "metadata": {},
   "source": [
    "## function to use with lambda\n",
    "1. map(func, parameters)\n",
    "2. filter(func, parameters)\n",
    "3. reduce(func, parameters)"
   ]
  },
  {
   "cell_type": "code",
   "execution_count": 18,
   "id": "761fa696-a0d8-4396-9c87-ebc16cba45f9",
   "metadata": {},
   "outputs": [],
   "source": [
    "l=[3,2,1,4,7,9]\n",
    "l1 = [5,2,2,5,6,3]\n",
    "l3 = list(map(s,l, l1))"
   ]
  },
  {
   "cell_type": "code",
   "execution_count": 19,
   "id": "05cf8507-8bb2-4d46-9009-b5aae1273c1e",
   "metadata": {},
   "outputs": [
    {
     "name": "stdout",
     "output_type": "stream",
     "text": [
      "[8, 0, -1, 9, 1, 6]\n"
     ]
    }
   ],
   "source": [
    "print(l3)"
   ]
  },
  {
   "cell_type": "markdown",
   "id": "4926eea3-9d8c-47c7-afda-8e866728e10a",
   "metadata": {},
   "source": [
    "## inner function concept"
   ]
  },
  {
   "cell_type": "code",
   "execution_count": 2,
   "id": "443da596-f17d-494c-87df-90277a3e0ef3",
   "metadata": {},
   "outputs": [
    {
     "name": "stdout",
     "output_type": "stream",
     "text": [
      "this is the outer function\n"
     ]
    }
   ],
   "source": [
    "def outer():\n",
    "    print(\"this is the outer function\")\n",
    "    def inner():\n",
    "        print(\"this is the inner function\")\n",
    "    return inner \n",
    "f = outer()"
   ]
  },
  {
   "cell_type": "code",
   "execution_count": 3,
   "id": "6f254801-2006-4151-9282-aaeeba070c07",
   "metadata": {},
   "outputs": [
    {
     "name": "stdout",
     "output_type": "stream",
     "text": [
      "this is the inner function\n"
     ]
    }
   ],
   "source": [
    "f()"
   ]
  },
  {
   "cell_type": "markdown",
   "id": "f5f52435-62da-4951-a5c2-09da942cef86",
   "metadata": {},
   "source": [
    "## Decorator"
   ]
  },
  {
   "cell_type": "code",
   "execution_count": 50,
   "id": "d851b02a-0409-4b1f-97e9-c2b5e987a7c4",
   "metadata": {},
   "outputs": [],
   "source": [
    "def decor(func):\n",
    "    def inner(name):\n",
    "        if name=='nava':\n",
    "            print('hello {} how are you'.format(name))\n",
    "        else:\n",
    "            func(name)\n",
    "    return inner\n",
    "\n",
    "@decor\n",
    "def wish(name):\n",
    "    print(\"hello {} good morning\".format(name))"
   ]
  },
  {
   "cell_type": "code",
   "execution_count": 45,
   "id": "82112839-e120-4aeb-b86b-662207f0a02f",
   "metadata": {},
   "outputs": [],
   "source": [
    "f=decor(wish)"
   ]
  },
  {
   "cell_type": "code",
   "execution_count": 51,
   "id": "ebbdfc98-6051-4c3d-95a7-ccf21f6b68df",
   "metadata": {},
   "outputs": [
    {
     "name": "stdout",
     "output_type": "stream",
     "text": [
      "hello nava how are you\n"
     ]
    }
   ],
   "source": [
    "f('nava')"
   ]
  },
  {
   "cell_type": "code",
   "execution_count": null,
   "id": "74310cd0-daa4-4f09-aee0-36f6aacf3f63",
   "metadata": {},
   "outputs": [],
   "source": []
  }
 ],
 "metadata": {
  "kernelspec": {
   "display_name": "Python 3",
   "language": "python",
   "name": "python3"
  },
  "language_info": {
   "codemirror_mode": {
    "name": "ipython",
    "version": 3
   },
   "file_extension": ".py",
   "mimetype": "text/x-python",
   "name": "python",
   "nbconvert_exporter": "python",
   "pygments_lexer": "ipython3",
   "version": "3.8.8"
  }
 },
 "nbformat": 4,
 "nbformat_minor": 5
}
