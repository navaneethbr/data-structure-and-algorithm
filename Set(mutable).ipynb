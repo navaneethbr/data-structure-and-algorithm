{
 "cells": [
  {
   "cell_type": "markdown",
   "id": "70df4fe8-5abe-410e-bbd1-51dbc21b2f94",
   "metadata": {},
   "source": [
    "## Important SET functiona and method\n",
    "1. <b>set.add(x)</b>: adds element to set.\n",
    "2. <b>set.update(x,y,..)</b>:  can add any number of elements using update.\n",
    "3. <b>set.pop()</b>: removes elements in random.\n",
    "4. <b>set.remove(x)</b>: removes specified element.\n",
    "5. <b>set.clear()</b>:removes all the elements from set.\n",
    "\n",
    "## Mathematical operation\n",
    "1. <b>set1.union(set2) or (set1|set2)</b>\n",
    "2. <b>set1.intersection(set2) or (set1&set2)</b>\n",
    "3. <b>set1.difference(set2) or (set1-set2)</b>"
   ]
  },
  {
   "cell_type": "code",
   "execution_count": 1,
   "id": "28cd8621-42ef-444e-98d5-ffb5d3894962",
   "metadata": {},
   "outputs": [
    {
     "data": {
      "text/plain": [
       "{2, 'nava'}"
      ]
     },
     "execution_count": 1,
     "metadata": {},
     "output_type": "execute_result"
    }
   ],
   "source": [
    "s = {\"nava\",2}\n",
    "s"
   ]
  },
  {
   "cell_type": "code",
   "execution_count": 2,
   "id": "09fd251a-8855-4a2f-a435-73d96be16d13",
   "metadata": {},
   "outputs": [
    {
     "data": {
      "text/plain": [
       "{2, 'a', 'e', 'n', 'nava'}"
      ]
     },
     "execution_count": 2,
     "metadata": {},
     "output_type": "execute_result"
    }
   ],
   "source": [
    "s.update(\"nae\")\n",
    "s"
   ]
  },
  {
   "cell_type": "code",
   "execution_count": 3,
   "id": "b29e501c-643c-4533-8055-376089ebcabf",
   "metadata": {},
   "outputs": [
    {
     "data": {
      "text/plain": [
       "{2, 'a', 'e', 'n', 'nae', 'nava'}"
      ]
     },
     "execution_count": 3,
     "metadata": {},
     "output_type": "execute_result"
    }
   ],
   "source": [
    "s.add(\"nae\")\n",
    "s"
   ]
  },
  {
   "cell_type": "code",
   "execution_count": 4,
   "id": "22138daf-b461-4722-afd9-fdd53be59204",
   "metadata": {},
   "outputs": [
    {
     "data": {
      "text/plain": [
       "{2, 'a', 'n', 'nae', 'nava'}"
      ]
     },
     "execution_count": 4,
     "metadata": {},
     "output_type": "execute_result"
    }
   ],
   "source": [
    "s.remove('e')\n",
    "s"
   ]
  },
  {
   "cell_type": "code",
   "execution_count": null,
   "id": "343f92f8-a739-45ca-acc7-3d4e7c4889d9",
   "metadata": {},
   "outputs": [],
   "source": []
  }
 ],
 "metadata": {
  "kernelspec": {
   "display_name": "Python 3",
   "language": "python",
   "name": "python3"
  },
  "language_info": {
   "codemirror_mode": {
    "name": "ipython",
    "version": 3
   },
   "file_extension": ".py",
   "mimetype": "text/x-python",
   "name": "python",
   "nbconvert_exporter": "python",
   "pygments_lexer": "ipython3",
   "version": "3.8.8"
  }
 },
 "nbformat": 4,
 "nbformat_minor": 5
}
