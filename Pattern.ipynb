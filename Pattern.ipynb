{
 "cells": [
  {
   "cell_type": "code",
   "execution_count": 9,
   "id": "7ec77727-7894-4ba7-9308-9994d72b6c92",
   "metadata": {},
   "outputs": [
    {
     "name": "stdin",
     "output_type": "stream",
     "text": [
      "enter the number of rows: 9\n"
     ]
    },
    {
     "name": "stdout",
     "output_type": "stream",
     "text": [
      "\n",
      "*\n",
      "**\n",
      "***\n",
      "****\n",
      "*****\n",
      "******\n",
      "*******\n",
      "********\n",
      "*********\n"
     ]
    }
   ],
   "source": [
    "ans=int(input(\"enter the number of rows:\"))\n",
    "# for i in range(ans+1):\n",
    "#     print(\"*\"*i)\n",
    "for i in range(ans+1):\n",
    "    for j in range(i):\n",
    "        print(\"*\", end=\"\")\n",
    "    print()"
   ]
  },
  {
   "cell_type": "code",
   "execution_count": 17,
   "id": "f1bd6745-934a-4398-a010-7e9d16979c01",
   "metadata": {},
   "outputs": [
    {
     "name": "stdin",
     "output_type": "stream",
     "text": [
      "enter the number of rows: 9\n"
     ]
    },
    {
     "name": "stdout",
     "output_type": "stream",
     "text": [
      "*********\n",
      "*********\n",
      "*********\n",
      "*********\n",
      "*********\n",
      "*********\n",
      "*********\n",
      "*********\n",
      "*********\n"
     ]
    }
   ],
   "source": [
    "ans=int(input(\"enter the number of rows:\"))\n",
    "# for i in range(ans+1):\n",
    "#     print(\"*\"*i)\n",
    "for i in range(ans):\n",
    "    for j in range(ans):\n",
    "        print(\"*\", end=\"\")\n",
    "    print()"
   ]
  },
  {
   "cell_type": "code",
   "execution_count": 16,
   "id": "a6e1a0fb-0631-4e7c-a27c-e946abcc898d",
   "metadata": {},
   "outputs": [
    {
     "name": "stdin",
     "output_type": "stream",
     "text": [
      "enter the number of rows: 9\n"
     ]
    },
    {
     "name": "stdout",
     "output_type": "stream",
     "text": [
      "*********\n",
      "********\n",
      "*******\n",
      "******\n",
      "*****\n",
      "****\n",
      "***\n",
      "**\n",
      "*\n"
     ]
    }
   ],
   "source": [
    "ans=int(input(\"enter the number of rows:\"))\n",
    "# for i in range(ans+1):\n",
    "#     print(\"*\"*i)\n",
    "for i in range(ans,0,-1):\n",
    "    for j in range(i):\n",
    "        print(\"*\", end=\"\")\n",
    "    print()"
   ]
  },
  {
   "cell_type": "code",
   "execution_count": 19,
   "id": "ee3aa347-0c03-4f02-8f0c-07cc616e26a8",
   "metadata": {},
   "outputs": [
    {
     "name": "stdin",
     "output_type": "stream",
     "text": [
      "enter the number of rows: 9\n"
     ]
    },
    {
     "name": "stdout",
     "output_type": "stream",
     "text": [
      "\n",
      "*\n",
      "**\n",
      "***\n",
      "****\n",
      "*****\n",
      "******\n",
      "*******\n",
      "********\n",
      "*********\n",
      "********\n",
      "*******\n",
      "******\n",
      "*****\n",
      "****\n",
      "***\n",
      "**\n",
      "*\n"
     ]
    }
   ],
   "source": [
    "ans=int(input(\"enter the number of rows:\"))\n",
    "# for i in range(ans+1):\n",
    "#     print(\"*\"*i)\n",
    "for i in range(ans+1):\n",
    "    for j in range(i):\n",
    "        print(\"*\", end=\"\")\n",
    "    print()\n",
    "for i in range(ans-1,0,-1):\n",
    "    for j in range(i):\n",
    "        print(\"*\", end=\"\")\n",
    "    print()"
   ]
  },
  {
   "cell_type": "code",
   "execution_count": 40,
   "id": "57b44330-585e-407d-9089-bda723ede249",
   "metadata": {},
   "outputs": [
    {
     "name": "stdin",
     "output_type": "stream",
     "text": [
      "enter the number of rows: 9\n"
     ]
    },
    {
     "name": "stdout",
     "output_type": "stream",
     "text": [
      "        *\n",
      "       ***\n",
      "      *****\n",
      "     *******\n",
      "    *********\n",
      "   ***********\n",
      "  *************\n",
      " ***************\n",
      "*****************\n"
     ]
    }
   ],
   "source": [
    "ans=int(input(\"enter the number of rows:\"))\n",
    "for i in range(ans):\n",
    "    n=ans\n",
    "    for j in range(ans-1-i):\n",
    "        print(\" \",end=\"\")\n",
    "    for i in range((i*2)+1):\n",
    "        print(\"*\",end=\"\")\n",
    "    print()"
   ]
  },
  {
   "cell_type": "code",
   "execution_count": 2,
   "id": "f9c3c37a-5bd8-47c5-a299-474ec442490b",
   "metadata": {},
   "outputs": [
    {
     "name": "stdin",
     "output_type": "stream",
     "text": [
      "enter a string b2dq23\n"
     ]
    },
    {
     "name": "stdout",
     "output_type": "stream",
     "text": [
      "bdq223\n"
     ]
    }
   ],
   "source": [
    "s= input(\"enter a string\")\n",
    "s1=s2=output=''\n",
    "for i in s:\n",
    "    if i.isalpha():\n",
    "        s1=s1+i\n",
    "    else:\n",
    "        s2+=i\n",
    "for i in sorted(s1):\n",
    "    output+=i\n",
    "for i in sorted(s2):\n",
    "    output+=i\n",
    "print(output)"
   ]
  },
  {
   "cell_type": "code",
   "execution_count": 18,
   "id": "b6647934-9eb8-4f5f-b832-abafac68184b",
   "metadata": {},
   "outputs": [
    {
     "name": "stdin",
     "output_type": "stream",
     "text": [
      "enter a string r13f1\n"
     ]
    },
    {
     "name": "stdout",
     "output_type": "stream",
     "text": [
      "r\n",
      "f\n",
      "rfff\n"
     ]
    }
   ],
   "source": [
    "s =input(\"enter a string\")\n",
    "s1=[]\n",
    "s2=[]\n",
    "out=''\n",
    "k=0\n",
    "for i in s:\n",
    "#     if s[0].is\n",
    "    if i.isalpha():\n",
    "        print(i)\n",
    "        s1.append(i)\n",
    "    else:\n",
    "        s2.append(int(i))\n",
    "for i in s1:\n",
    "    out+=i*s2[k]\n",
    "    k+=1\n",
    "print(out)"
   ]
  },
  {
   "cell_type": "code",
   "execution_count": null,
   "id": "74df2b4f-905e-4110-a9f2-50c7be430d8a",
   "metadata": {},
   "outputs": [],
   "source": []
  }
 ],
 "metadata": {
  "kernelspec": {
   "display_name": "Python 3",
   "language": "python",
   "name": "python3"
  },
  "language_info": {
   "codemirror_mode": {
    "name": "ipython",
    "version": 3
   },
   "file_extension": ".py",
   "mimetype": "text/x-python",
   "name": "python",
   "nbconvert_exporter": "python",
   "pygments_lexer": "ipython3",
   "version": "3.8.8"
  }
 },
 "nbformat": 4,
 "nbformat_minor": 5
}
